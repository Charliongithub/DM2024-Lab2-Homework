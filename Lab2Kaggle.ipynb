{
  "metadata": {
    "kernelspec": {
      "language": "python",
      "display_name": "Python 3",
      "name": "python3"
    },
    "language_info": {
      "name": "python",
      "version": "3.10.14",
      "mimetype": "text/x-python",
      "codemirror_mode": {
        "name": "ipython",
        "version": 3
      },
      "pygments_lexer": "ipython3",
      "nbconvert_exporter": "python",
      "file_extension": ".py"
    },
    "kaggle": {
      "accelerator": "gpu",
      "dataSources": [
        {
          "sourceId": 87232,
          "databundleVersionId": 9912598,
          "sourceType": "competition"
        }
      ],
      "dockerImageVersionId": 30786,
      "isInternetEnabled": true,
      "language": "python",
      "sourceType": "notebook",
      "isGpuEnabled": true
    },
    "colab": {
      "provenance": [],
      "include_colab_link": true
    },
    "widgets": {
      "application/vnd.jupyter.widget-state+json": {
        "4446abbf3acf44b5b2a085ef7e4e169a": {
          "model_module": "@jupyter-widgets/controls",
          "model_name": "VBoxModel",
          "model_module_version": "1.5.0",
          "state": {
            "_dom_classes": [],
            "_model_module": "@jupyter-widgets/controls",
            "_model_module_version": "1.5.0",
            "_model_name": "VBoxModel",
            "_view_count": null,
            "_view_module": "@jupyter-widgets/controls",
            "_view_module_version": "1.5.0",
            "_view_name": "VBoxView",
            "box_style": "",
            "children": [
              "IPY_MODEL_5ff5c146a0a24393acf3994801617816"
            ],
            "layout": "IPY_MODEL_cfdbb006d3b34f8b8b22806b2dc516a8"
          }
        },
        "48a2228c2cbd4e50bc4a45b3690c5475": {
          "model_module": "@jupyter-widgets/controls",
          "model_name": "HTMLModel",
          "model_module_version": "1.5.0",
          "state": {
            "_dom_classes": [],
            "_model_module": "@jupyter-widgets/controls",
            "_model_module_version": "1.5.0",
            "_model_name": "HTMLModel",
            "_view_count": null,
            "_view_module": "@jupyter-widgets/controls",
            "_view_module_version": "1.5.0",
            "_view_name": "HTMLView",
            "description": "",
            "description_tooltip": null,
            "layout": "IPY_MODEL_98342703903845e9b0d577616dd25935",
            "placeholder": "​",
            "style": "IPY_MODEL_69100eea59634b02a4d54d171cb0ebf8",
            "value": "<center> <img\nsrc=https://www.kaggle.com/static/images/site-logo.png\nalt='Kaggle'> <br> Create an API token from <a\nhref=\"https://www.kaggle.com/settings/account\" target=\"_blank\">your Kaggle\nsettings page</a> and paste it below along with your Kaggle username. <br> </center>"
          }
        },
        "8d8bd9f07ebf4db88565c1796b01a1a4": {
          "model_module": "@jupyter-widgets/controls",
          "model_name": "TextModel",
          "model_module_version": "1.5.0",
          "state": {
            "_dom_classes": [],
            "_model_module": "@jupyter-widgets/controls",
            "_model_module_version": "1.5.0",
            "_model_name": "TextModel",
            "_view_count": null,
            "_view_module": "@jupyter-widgets/controls",
            "_view_module_version": "1.5.0",
            "_view_name": "TextView",
            "continuous_update": true,
            "description": "Username:",
            "description_tooltip": null,
            "disabled": false,
            "layout": "IPY_MODEL_8ac221d720e146c7983e5cb853da0a2a",
            "placeholder": "​",
            "style": "IPY_MODEL_6292bfde08034fdc9b1ac99c2fcdba19",
            "value": "charlionkaggle"
          }
        },
        "73363397c1ab4496ade34503c6d3a203": {
          "model_module": "@jupyter-widgets/controls",
          "model_name": "PasswordModel",
          "model_module_version": "1.5.0",
          "state": {
            "_dom_classes": [],
            "_model_module": "@jupyter-widgets/controls",
            "_model_module_version": "1.5.0",
            "_model_name": "PasswordModel",
            "_view_count": null,
            "_view_module": "@jupyter-widgets/controls",
            "_view_module_version": "1.5.0",
            "_view_name": "PasswordView",
            "continuous_update": true,
            "description": "Token:",
            "description_tooltip": null,
            "disabled": false,
            "layout": "IPY_MODEL_c0a79128699a4af681bbfbc07d3fb574",
            "placeholder": "​",
            "style": "IPY_MODEL_872d5c3b50204529b53b6ff7a0e2e033",
            "value": ""
          }
        },
        "7539c9c436b74b558fa4c77354e52ac6": {
          "model_module": "@jupyter-widgets/controls",
          "model_name": "ButtonModel",
          "model_module_version": "1.5.0",
          "state": {
            "_dom_classes": [],
            "_model_module": "@jupyter-widgets/controls",
            "_model_module_version": "1.5.0",
            "_model_name": "ButtonModel",
            "_view_count": null,
            "_view_module": "@jupyter-widgets/controls",
            "_view_module_version": "1.5.0",
            "_view_name": "ButtonView",
            "button_style": "",
            "description": "Login",
            "disabled": false,
            "icon": "",
            "layout": "IPY_MODEL_a4c36fbe313246cfb0800fde1796c675",
            "style": "IPY_MODEL_0bdbad5e4b0c4fc79daddaff2270c61b",
            "tooltip": ""
          }
        },
        "ecd1c4c38b0c436891ebb854ea6c4e17": {
          "model_module": "@jupyter-widgets/controls",
          "model_name": "HTMLModel",
          "model_module_version": "1.5.0",
          "state": {
            "_dom_classes": [],
            "_model_module": "@jupyter-widgets/controls",
            "_model_module_version": "1.5.0",
            "_model_name": "HTMLModel",
            "_view_count": null,
            "_view_module": "@jupyter-widgets/controls",
            "_view_module_version": "1.5.0",
            "_view_name": "HTMLView",
            "description": "",
            "description_tooltip": null,
            "layout": "IPY_MODEL_3b5d146ed56c444db09f9d357e008a4e",
            "placeholder": "​",
            "style": "IPY_MODEL_a219b51ddac5490081e17a3dd8575085",
            "value": "\n<b>Thank You</b></center>"
          }
        },
        "cfdbb006d3b34f8b8b22806b2dc516a8": {
          "model_module": "@jupyter-widgets/base",
          "model_name": "LayoutModel",
          "model_module_version": "1.2.0",
          "state": {
            "_model_module": "@jupyter-widgets/base",
            "_model_module_version": "1.2.0",
            "_model_name": "LayoutModel",
            "_view_count": null,
            "_view_module": "@jupyter-widgets/base",
            "_view_module_version": "1.2.0",
            "_view_name": "LayoutView",
            "align_content": null,
            "align_items": "center",
            "align_self": null,
            "border": null,
            "bottom": null,
            "display": "flex",
            "flex": null,
            "flex_flow": "column",
            "grid_area": null,
            "grid_auto_columns": null,
            "grid_auto_flow": null,
            "grid_auto_rows": null,
            "grid_column": null,
            "grid_gap": null,
            "grid_row": null,
            "grid_template_areas": null,
            "grid_template_columns": null,
            "grid_template_rows": null,
            "height": null,
            "justify_content": null,
            "justify_items": null,
            "left": null,
            "margin": null,
            "max_height": null,
            "max_width": null,
            "min_height": null,
            "min_width": null,
            "object_fit": null,
            "object_position": null,
            "order": null,
            "overflow": null,
            "overflow_x": null,
            "overflow_y": null,
            "padding": null,
            "right": null,
            "top": null,
            "visibility": null,
            "width": "50%"
          }
        },
        "98342703903845e9b0d577616dd25935": {
          "model_module": "@jupyter-widgets/base",
          "model_name": "LayoutModel",
          "model_module_version": "1.2.0",
          "state": {
            "_model_module": "@jupyter-widgets/base",
            "_model_module_version": "1.2.0",
            "_model_name": "LayoutModel",
            "_view_count": null,
            "_view_module": "@jupyter-widgets/base",
            "_view_module_version": "1.2.0",
            "_view_name": "LayoutView",
            "align_content": null,
            "align_items": null,
            "align_self": null,
            "border": null,
            "bottom": null,
            "display": null,
            "flex": null,
            "flex_flow": null,
            "grid_area": null,
            "grid_auto_columns": null,
            "grid_auto_flow": null,
            "grid_auto_rows": null,
            "grid_column": null,
            "grid_gap": null,
            "grid_row": null,
            "grid_template_areas": null,
            "grid_template_columns": null,
            "grid_template_rows": null,
            "height": null,
            "justify_content": null,
            "justify_items": null,
            "left": null,
            "margin": null,
            "max_height": null,
            "max_width": null,
            "min_height": null,
            "min_width": null,
            "object_fit": null,
            "object_position": null,
            "order": null,
            "overflow": null,
            "overflow_x": null,
            "overflow_y": null,
            "padding": null,
            "right": null,
            "top": null,
            "visibility": null,
            "width": null
          }
        },
        "69100eea59634b02a4d54d171cb0ebf8": {
          "model_module": "@jupyter-widgets/controls",
          "model_name": "DescriptionStyleModel",
          "model_module_version": "1.5.0",
          "state": {
            "_model_module": "@jupyter-widgets/controls",
            "_model_module_version": "1.5.0",
            "_model_name": "DescriptionStyleModel",
            "_view_count": null,
            "_view_module": "@jupyter-widgets/base",
            "_view_module_version": "1.2.0",
            "_view_name": "StyleView",
            "description_width": ""
          }
        },
        "8ac221d720e146c7983e5cb853da0a2a": {
          "model_module": "@jupyter-widgets/base",
          "model_name": "LayoutModel",
          "model_module_version": "1.2.0",
          "state": {
            "_model_module": "@jupyter-widgets/base",
            "_model_module_version": "1.2.0",
            "_model_name": "LayoutModel",
            "_view_count": null,
            "_view_module": "@jupyter-widgets/base",
            "_view_module_version": "1.2.0",
            "_view_name": "LayoutView",
            "align_content": null,
            "align_items": null,
            "align_self": null,
            "border": null,
            "bottom": null,
            "display": null,
            "flex": null,
            "flex_flow": null,
            "grid_area": null,
            "grid_auto_columns": null,
            "grid_auto_flow": null,
            "grid_auto_rows": null,
            "grid_column": null,
            "grid_gap": null,
            "grid_row": null,
            "grid_template_areas": null,
            "grid_template_columns": null,
            "grid_template_rows": null,
            "height": null,
            "justify_content": null,
            "justify_items": null,
            "left": null,
            "margin": null,
            "max_height": null,
            "max_width": null,
            "min_height": null,
            "min_width": null,
            "object_fit": null,
            "object_position": null,
            "order": null,
            "overflow": null,
            "overflow_x": null,
            "overflow_y": null,
            "padding": null,
            "right": null,
            "top": null,
            "visibility": null,
            "width": null
          }
        },
        "6292bfde08034fdc9b1ac99c2fcdba19": {
          "model_module": "@jupyter-widgets/controls",
          "model_name": "DescriptionStyleModel",
          "model_module_version": "1.5.0",
          "state": {
            "_model_module": "@jupyter-widgets/controls",
            "_model_module_version": "1.5.0",
            "_model_name": "DescriptionStyleModel",
            "_view_count": null,
            "_view_module": "@jupyter-widgets/base",
            "_view_module_version": "1.2.0",
            "_view_name": "StyleView",
            "description_width": ""
          }
        },
        "c0a79128699a4af681bbfbc07d3fb574": {
          "model_module": "@jupyter-widgets/base",
          "model_name": "LayoutModel",
          "model_module_version": "1.2.0",
          "state": {
            "_model_module": "@jupyter-widgets/base",
            "_model_module_version": "1.2.0",
            "_model_name": "LayoutModel",
            "_view_count": null,
            "_view_module": "@jupyter-widgets/base",
            "_view_module_version": "1.2.0",
            "_view_name": "LayoutView",
            "align_content": null,
            "align_items": null,
            "align_self": null,
            "border": null,
            "bottom": null,
            "display": null,
            "flex": null,
            "flex_flow": null,
            "grid_area": null,
            "grid_auto_columns": null,
            "grid_auto_flow": null,
            "grid_auto_rows": null,
            "grid_column": null,
            "grid_gap": null,
            "grid_row": null,
            "grid_template_areas": null,
            "grid_template_columns": null,
            "grid_template_rows": null,
            "height": null,
            "justify_content": null,
            "justify_items": null,
            "left": null,
            "margin": null,
            "max_height": null,
            "max_width": null,
            "min_height": null,
            "min_width": null,
            "object_fit": null,
            "object_position": null,
            "order": null,
            "overflow": null,
            "overflow_x": null,
            "overflow_y": null,
            "padding": null,
            "right": null,
            "top": null,
            "visibility": null,
            "width": null
          }
        },
        "872d5c3b50204529b53b6ff7a0e2e033": {
          "model_module": "@jupyter-widgets/controls",
          "model_name": "DescriptionStyleModel",
          "model_module_version": "1.5.0",
          "state": {
            "_model_module": "@jupyter-widgets/controls",
            "_model_module_version": "1.5.0",
            "_model_name": "DescriptionStyleModel",
            "_view_count": null,
            "_view_module": "@jupyter-widgets/base",
            "_view_module_version": "1.2.0",
            "_view_name": "StyleView",
            "description_width": ""
          }
        },
        "a4c36fbe313246cfb0800fde1796c675": {
          "model_module": "@jupyter-widgets/base",
          "model_name": "LayoutModel",
          "model_module_version": "1.2.0",
          "state": {
            "_model_module": "@jupyter-widgets/base",
            "_model_module_version": "1.2.0",
            "_model_name": "LayoutModel",
            "_view_count": null,
            "_view_module": "@jupyter-widgets/base",
            "_view_module_version": "1.2.0",
            "_view_name": "LayoutView",
            "align_content": null,
            "align_items": null,
            "align_self": null,
            "border": null,
            "bottom": null,
            "display": null,
            "flex": null,
            "flex_flow": null,
            "grid_area": null,
            "grid_auto_columns": null,
            "grid_auto_flow": null,
            "grid_auto_rows": null,
            "grid_column": null,
            "grid_gap": null,
            "grid_row": null,
            "grid_template_areas": null,
            "grid_template_columns": null,
            "grid_template_rows": null,
            "height": null,
            "justify_content": null,
            "justify_items": null,
            "left": null,
            "margin": null,
            "max_height": null,
            "max_width": null,
            "min_height": null,
            "min_width": null,
            "object_fit": null,
            "object_position": null,
            "order": null,
            "overflow": null,
            "overflow_x": null,
            "overflow_y": null,
            "padding": null,
            "right": null,
            "top": null,
            "visibility": null,
            "width": null
          }
        },
        "0bdbad5e4b0c4fc79daddaff2270c61b": {
          "model_module": "@jupyter-widgets/controls",
          "model_name": "ButtonStyleModel",
          "model_module_version": "1.5.0",
          "state": {
            "_model_module": "@jupyter-widgets/controls",
            "_model_module_version": "1.5.0",
            "_model_name": "ButtonStyleModel",
            "_view_count": null,
            "_view_module": "@jupyter-widgets/base",
            "_view_module_version": "1.2.0",
            "_view_name": "StyleView",
            "button_color": null,
            "font_weight": ""
          }
        },
        "3b5d146ed56c444db09f9d357e008a4e": {
          "model_module": "@jupyter-widgets/base",
          "model_name": "LayoutModel",
          "model_module_version": "1.2.0",
          "state": {
            "_model_module": "@jupyter-widgets/base",
            "_model_module_version": "1.2.0",
            "_model_name": "LayoutModel",
            "_view_count": null,
            "_view_module": "@jupyter-widgets/base",
            "_view_module_version": "1.2.0",
            "_view_name": "LayoutView",
            "align_content": null,
            "align_items": null,
            "align_self": null,
            "border": null,
            "bottom": null,
            "display": null,
            "flex": null,
            "flex_flow": null,
            "grid_area": null,
            "grid_auto_columns": null,
            "grid_auto_flow": null,
            "grid_auto_rows": null,
            "grid_column": null,
            "grid_gap": null,
            "grid_row": null,
            "grid_template_areas": null,
            "grid_template_columns": null,
            "grid_template_rows": null,
            "height": null,
            "justify_content": null,
            "justify_items": null,
            "left": null,
            "margin": null,
            "max_height": null,
            "max_width": null,
            "min_height": null,
            "min_width": null,
            "object_fit": null,
            "object_position": null,
            "order": null,
            "overflow": null,
            "overflow_x": null,
            "overflow_y": null,
            "padding": null,
            "right": null,
            "top": null,
            "visibility": null,
            "width": null
          }
        },
        "a219b51ddac5490081e17a3dd8575085": {
          "model_module": "@jupyter-widgets/controls",
          "model_name": "DescriptionStyleModel",
          "model_module_version": "1.5.0",
          "state": {
            "_model_module": "@jupyter-widgets/controls",
            "_model_module_version": "1.5.0",
            "_model_name": "DescriptionStyleModel",
            "_view_count": null,
            "_view_module": "@jupyter-widgets/base",
            "_view_module_version": "1.2.0",
            "_view_name": "StyleView",
            "description_width": ""
          }
        },
        "80eb742dc576415c84a7c50d911b97e0": {
          "model_module": "@jupyter-widgets/controls",
          "model_name": "LabelModel",
          "model_module_version": "1.5.0",
          "state": {
            "_dom_classes": [],
            "_model_module": "@jupyter-widgets/controls",
            "_model_module_version": "1.5.0",
            "_model_name": "LabelModel",
            "_view_count": null,
            "_view_module": "@jupyter-widgets/controls",
            "_view_module_version": "1.5.0",
            "_view_name": "LabelView",
            "description": "",
            "description_tooltip": null,
            "layout": "IPY_MODEL_295860f027154567a3989a81a3fb44b8",
            "placeholder": "​",
            "style": "IPY_MODEL_2401fa7eaac3445990a8bffade09c0d9",
            "value": "Connecting..."
          }
        },
        "295860f027154567a3989a81a3fb44b8": {
          "model_module": "@jupyter-widgets/base",
          "model_name": "LayoutModel",
          "model_module_version": "1.2.0",
          "state": {
            "_model_module": "@jupyter-widgets/base",
            "_model_module_version": "1.2.0",
            "_model_name": "LayoutModel",
            "_view_count": null,
            "_view_module": "@jupyter-widgets/base",
            "_view_module_version": "1.2.0",
            "_view_name": "LayoutView",
            "align_content": null,
            "align_items": null,
            "align_self": null,
            "border": null,
            "bottom": null,
            "display": null,
            "flex": null,
            "flex_flow": null,
            "grid_area": null,
            "grid_auto_columns": null,
            "grid_auto_flow": null,
            "grid_auto_rows": null,
            "grid_column": null,
            "grid_gap": null,
            "grid_row": null,
            "grid_template_areas": null,
            "grid_template_columns": null,
            "grid_template_rows": null,
            "height": null,
            "justify_content": null,
            "justify_items": null,
            "left": null,
            "margin": null,
            "max_height": null,
            "max_width": null,
            "min_height": null,
            "min_width": null,
            "object_fit": null,
            "object_position": null,
            "order": null,
            "overflow": null,
            "overflow_x": null,
            "overflow_y": null,
            "padding": null,
            "right": null,
            "top": null,
            "visibility": null,
            "width": null
          }
        },
        "2401fa7eaac3445990a8bffade09c0d9": {
          "model_module": "@jupyter-widgets/controls",
          "model_name": "DescriptionStyleModel",
          "model_module_version": "1.5.0",
          "state": {
            "_model_module": "@jupyter-widgets/controls",
            "_model_module_version": "1.5.0",
            "_model_name": "DescriptionStyleModel",
            "_view_count": null,
            "_view_module": "@jupyter-widgets/base",
            "_view_module_version": "1.2.0",
            "_view_name": "StyleView",
            "description_width": ""
          }
        },
        "5ff5c146a0a24393acf3994801617816": {
          "model_module": "@jupyter-widgets/controls",
          "model_name": "LabelModel",
          "model_module_version": "1.5.0",
          "state": {
            "_dom_classes": [],
            "_model_module": "@jupyter-widgets/controls",
            "_model_module_version": "1.5.0",
            "_model_name": "LabelModel",
            "_view_count": null,
            "_view_module": "@jupyter-widgets/controls",
            "_view_module_version": "1.5.0",
            "_view_name": "LabelView",
            "description": "",
            "description_tooltip": null,
            "layout": "IPY_MODEL_7ab9e07355d745279b85d221c1b9cab4",
            "placeholder": "​",
            "style": "IPY_MODEL_4a9cb6baa3644b11971f90bf0476d2bf",
            "value": "Kaggle credentials successfully validated."
          }
        },
        "7ab9e07355d745279b85d221c1b9cab4": {
          "model_module": "@jupyter-widgets/base",
          "model_name": "LayoutModel",
          "model_module_version": "1.2.0",
          "state": {
            "_model_module": "@jupyter-widgets/base",
            "_model_module_version": "1.2.0",
            "_model_name": "LayoutModel",
            "_view_count": null,
            "_view_module": "@jupyter-widgets/base",
            "_view_module_version": "1.2.0",
            "_view_name": "LayoutView",
            "align_content": null,
            "align_items": null,
            "align_self": null,
            "border": null,
            "bottom": null,
            "display": null,
            "flex": null,
            "flex_flow": null,
            "grid_area": null,
            "grid_auto_columns": null,
            "grid_auto_flow": null,
            "grid_auto_rows": null,
            "grid_column": null,
            "grid_gap": null,
            "grid_row": null,
            "grid_template_areas": null,
            "grid_template_columns": null,
            "grid_template_rows": null,
            "height": null,
            "justify_content": null,
            "justify_items": null,
            "left": null,
            "margin": null,
            "max_height": null,
            "max_width": null,
            "min_height": null,
            "min_width": null,
            "object_fit": null,
            "object_position": null,
            "order": null,
            "overflow": null,
            "overflow_x": null,
            "overflow_y": null,
            "padding": null,
            "right": null,
            "top": null,
            "visibility": null,
            "width": null
          }
        },
        "4a9cb6baa3644b11971f90bf0476d2bf": {
          "model_module": "@jupyter-widgets/controls",
          "model_name": "DescriptionStyleModel",
          "model_module_version": "1.5.0",
          "state": {
            "_model_module": "@jupyter-widgets/controls",
            "_model_module_version": "1.5.0",
            "_model_name": "DescriptionStyleModel",
            "_view_count": null,
            "_view_module": "@jupyter-widgets/base",
            "_view_module_version": "1.2.0",
            "_view_name": "StyleView",
            "description_width": ""
          }
        }
      }
    }
  },
  "nbformat_minor": 0,
  "nbformat": 4,
  "cells": [
    {
      "cell_type": "markdown",
      "metadata": {
        "id": "view-in-github",
        "colab_type": "text"
      },
      "source": [
        "<a href=\"https://colab.research.google.com/github/Charliongithub/DM2024-Lab2-Homework/blob/main/Lab2Kaggle.ipynb\" target=\"_parent\"><img src=\"https://colab.research.google.com/assets/colab-badge.svg\" alt=\"Open In Colab\"/></a>"
      ]
    },
    {
      "source": [
        "# IMPORTANT: SOME KAGGLE DATA SOURCES ARE PRIVATE\n",
        "# RUN THIS CELL IN ORDER TO IMPORT YOUR KAGGLE DATA SOURCES.\n",
        "import kagglehub\n",
        "kagglehub.login()\n"
      ],
      "metadata": {
        "id": "-E5LI_2J8tQx",
        "colab": {
          "base_uri": "https://localhost:8080/",
          "height": 84,
          "referenced_widgets": [
            "4446abbf3acf44b5b2a085ef7e4e169a",
            "48a2228c2cbd4e50bc4a45b3690c5475",
            "8d8bd9f07ebf4db88565c1796b01a1a4",
            "73363397c1ab4496ade34503c6d3a203",
            "7539c9c436b74b558fa4c77354e52ac6",
            "ecd1c4c38b0c436891ebb854ea6c4e17",
            "cfdbb006d3b34f8b8b22806b2dc516a8",
            "98342703903845e9b0d577616dd25935",
            "69100eea59634b02a4d54d171cb0ebf8",
            "8ac221d720e146c7983e5cb853da0a2a",
            "6292bfde08034fdc9b1ac99c2fcdba19",
            "c0a79128699a4af681bbfbc07d3fb574",
            "872d5c3b50204529b53b6ff7a0e2e033",
            "a4c36fbe313246cfb0800fde1796c675",
            "0bdbad5e4b0c4fc79daddaff2270c61b",
            "3b5d146ed56c444db09f9d357e008a4e",
            "a219b51ddac5490081e17a3dd8575085",
            "80eb742dc576415c84a7c50d911b97e0",
            "295860f027154567a3989a81a3fb44b8",
            "2401fa7eaac3445990a8bffade09c0d9",
            "5ff5c146a0a24393acf3994801617816",
            "7ab9e07355d745279b85d221c1b9cab4",
            "4a9cb6baa3644b11971f90bf0476d2bf"
          ]
        },
        "outputId": "9a8990ce-b1fd-481d-966f-52270a53def7"
      },
      "cell_type": "code",
      "outputs": [
        {
          "output_type": "display_data",
          "data": {
            "text/plain": [
              "VBox(children=(HTML(value='<center> <img\\nsrc=https://www.kaggle.com/static/images/site-logo.png\\nalt=\\'Kaggle…"
            ],
            "application/vnd.jupyter.widget-view+json": {
              "version_major": 2,
              "version_minor": 0,
              "model_id": "4446abbf3acf44b5b2a085ef7e4e169a"
            }
          },
          "metadata": {}
        },
        {
          "output_type": "stream",
          "name": "stdout",
          "text": [
            "Kaggle credentials set.\n",
            "Kaggle credentials successfully validated.\n"
          ]
        }
      ],
      "execution_count": 1
    },
    {
      "source": [
        "# IMPORTANT: RUN THIS CELL IN ORDER TO IMPORT YOUR KAGGLE DATA SOURCES,\n",
        "# THEN FEEL FREE TO DELETE THIS CELL.\n",
        "# NOTE: THIS NOTEBOOK ENVIRONMENT DIFFERS FROM KAGGLE'S PYTHON\n",
        "# ENVIRONMENT SO THERE MAY BE MISSING LIBRARIES USED BY YOUR\n",
        "# NOTEBOOK.\n",
        "\n",
        "dm_2024_isa_5810_lab_2_homework_path = kagglehub.competition_download('dm-2024-isa-5810-lab-2-homework')\n",
        "\n",
        "print('Data source import complete.')\n"
      ],
      "metadata": {
        "id": "2HZaillF8tQy",
        "colab": {
          "base_uri": "https://localhost:8080/"
        },
        "outputId": "e94ab8ef-dd2b-47a0-f224-27a215cbcf0b"
      },
      "cell_type": "code",
      "outputs": [
        {
          "output_type": "stream",
          "name": "stdout",
          "text": [
            "Downloading from https://www.kaggle.com/api/v1/competitions/data/download-all/dm-2024-isa-5810-lab-2-homework...\n"
          ]
        },
        {
          "output_type": "stream",
          "name": "stderr",
          "text": [
            "100%|██████████| 149M/149M [00:03<00:00, 44.3MB/s]"
          ]
        },
        {
          "output_type": "stream",
          "name": "stdout",
          "text": [
            "Extracting files...\n"
          ]
        },
        {
          "output_type": "stream",
          "name": "stderr",
          "text": [
            "\n"
          ]
        },
        {
          "output_type": "stream",
          "name": "stdout",
          "text": [
            "Data source import complete.\n"
          ]
        }
      ],
      "execution_count": 2
    },
    {
      "cell_type": "code",
      "source": [
        "#Set up\n",
        "import pandas as pd\n",
        "import numpy as np\n",
        "import json\n",
        "import matplotlib.pyplot as plt\n",
        "import seaborn as sns\n",
        "from sklearn.model_selection import train_test_split\n",
        "from sklearn.feature_extraction.text import TfidfVectorizer\n",
        "from sklearn.linear_model import LogisticRegression\n",
        "from sklearn.metrics import classification_report, f1_score"
      ],
      "metadata": {
        "_uuid": "242160c4-2a74-45e1-9258-9f3a36c480d8",
        "_cell_guid": "0f9bfb18-b8eb-4d0c-9f90-0685e653aeaa",
        "trusted": true,
        "execution": {
          "iopub.status.busy": "2024-11-29T07:16:32.238842Z",
          "iopub.execute_input": "2024-11-29T07:16:32.239546Z",
          "iopub.status.idle": "2024-11-29T07:16:33.404225Z",
          "shell.execute_reply.started": "2024-11-29T07:16:32.239497Z",
          "shell.execute_reply": "2024-11-29T07:16:33.403534Z"
        },
        "jupyter": {
          "outputs_hidden": false
        },
        "id": "QTjQP7mU8tQz"
      },
      "outputs": [],
      "execution_count": 3
    },
    {
      "cell_type": "code",
      "source": [
        "#Load the data\n",
        "#Understand the data_identification first\n",
        "import os\n",
        "\n",
        "# Get the path where the data was downloaded\n",
        "data_dir = os.path.dirname(dm_2024_isa_5810_lab_2_homework_path)\n",
        "\n",
        "# Construct the full path to the CSV file\n",
        "data_path = os.path.join(data_dir, 'dm-2024-isa-5810-lab-2-homework', 'data_identification.csv')\n",
        "\n",
        "# Now read the CSV file using the corrected path\n",
        "data_identification = pd.read_csv(data_path)"
      ],
      "metadata": {
        "_uuid": "71385a0f-fdb0-42a3-ba08-7809ffa8c24d",
        "_cell_guid": "15f87024-3f7c-4d6e-9820-6b0fe9e59370",
        "trusted": true,
        "execution": {
          "iopub.status.busy": "2024-11-29T07:16:33.40574Z",
          "iopub.execute_input": "2024-11-29T07:16:33.406125Z",
          "iopub.status.idle": "2024-11-29T07:16:34.660929Z",
          "shell.execute_reply.started": "2024-11-29T07:16:33.406081Z",
          "shell.execute_reply": "2024-11-29T07:16:34.660251Z"
        },
        "jupyter": {
          "outputs_hidden": false
        },
        "id": "HVYQ6zOO8tQ0"
      },
      "outputs": [],
      "execution_count": 6
    },
    {
      "cell_type": "code",
      "source": [
        "print(data_identification.head())"
      ],
      "metadata": {
        "_uuid": "af055ce1-8c80-41da-9fab-c3d27d979df2",
        "_cell_guid": "9d07334b-05f0-4554-8e77-9d33234604d6",
        "trusted": true,
        "execution": {
          "iopub.status.busy": "2024-11-29T07:16:34.661823Z",
          "iopub.execute_input": "2024-11-29T07:16:34.662047Z",
          "iopub.status.idle": "2024-11-29T07:16:34.672763Z",
          "shell.execute_reply.started": "2024-11-29T07:16:34.662023Z",
          "shell.execute_reply": "2024-11-29T07:16:34.671978Z"
        },
        "jupyter": {
          "outputs_hidden": false
        },
        "id": "vI7QpFit8tQ0",
        "colab": {
          "base_uri": "https://localhost:8080/"
        },
        "outputId": "c75615f3-6ba9-454b-9d68-f9f8736f38e4"
      },
      "outputs": [
        {
          "output_type": "stream",
          "name": "stdout",
          "text": [
            "   tweet_id identification\n",
            "0  0x28cc61           test\n",
            "1  0x29e452          train\n",
            "2  0x2b3819          train\n",
            "3  0x2db41f           test\n",
            "4  0x2a2acc          train\n"
          ]
        }
      ],
      "execution_count": 7
    },
    {
      "cell_type": "code",
      "source": [
        "print(data_identification.isnull().sum())"
      ],
      "metadata": {
        "_uuid": "a7d72fca-3a5a-4d00-90b6-38b46a0d18cc",
        "_cell_guid": "2b80e6f5-7336-4fda-812e-06d4be82f14c",
        "trusted": true,
        "execution": {
          "iopub.status.busy": "2024-11-29T07:16:34.674316Z",
          "iopub.execute_input": "2024-11-29T07:16:34.674576Z",
          "iopub.status.idle": "2024-11-29T07:16:34.831826Z",
          "shell.execute_reply.started": "2024-11-29T07:16:34.674544Z",
          "shell.execute_reply": "2024-11-29T07:16:34.83087Z"
        },
        "jupyter": {
          "outputs_hidden": false
        },
        "id": "K09UVmhA8tQ2",
        "colab": {
          "base_uri": "https://localhost:8080/"
        },
        "outputId": "4b966c9e-7eb0-48cd-838a-76335193506a"
      },
      "outputs": [
        {
          "output_type": "stream",
          "name": "stdout",
          "text": [
            "tweet_id          0\n",
            "identification    0\n",
            "dtype: int64\n"
          ]
        }
      ],
      "execution_count": 8
    },
    {
      "cell_type": "code",
      "source": [
        "print(data_identification.info())"
      ],
      "metadata": {
        "_uuid": "5afbd43c-868f-4897-9079-0f1158ff5450",
        "_cell_guid": "cc9daefb-729b-436b-8a49-e9bc45a2f2e8",
        "trusted": true,
        "execution": {
          "iopub.status.busy": "2024-11-29T07:16:34.832935Z",
          "iopub.execute_input": "2024-11-29T07:16:34.833233Z",
          "iopub.status.idle": "2024-11-29T07:16:34.853935Z",
          "shell.execute_reply.started": "2024-11-29T07:16:34.833206Z",
          "shell.execute_reply": "2024-11-29T07:16:34.85315Z"
        },
        "jupyter": {
          "outputs_hidden": false
        },
        "id": "cLlF1gGD8tQ2",
        "colab": {
          "base_uri": "https://localhost:8080/"
        },
        "outputId": "dcc381f7-e735-47ce-d43c-e2ec04cec3c1"
      },
      "outputs": [
        {
          "output_type": "stream",
          "name": "stdout",
          "text": [
            "<class 'pandas.core.frame.DataFrame'>\n",
            "RangeIndex: 1867535 entries, 0 to 1867534\n",
            "Data columns (total 2 columns):\n",
            " #   Column          Dtype \n",
            "---  ------          ----- \n",
            " 0   tweet_id        object\n",
            " 1   identification  object\n",
            "dtypes: object(2)\n",
            "memory usage: 28.5+ MB\n",
            "None\n"
          ]
        }
      ],
      "execution_count": 9
    },
    {
      "cell_type": "code",
      "source": [
        "#Check the distribution\n",
        "sns.countplot(data=data_identification, x='identification')\n",
        "plt.title(\"Training vs Testing Data Distribution\")\n",
        "plt.show()"
      ],
      "metadata": {
        "_uuid": "46278820-e923-4cd2-9b02-61e4bd0c476a",
        "_cell_guid": "60d255a5-96e1-464d-93e3-68b7a28cd8b7",
        "trusted": true,
        "execution": {
          "iopub.status.busy": "2024-11-29T07:16:34.855188Z",
          "iopub.execute_input": "2024-11-29T07:16:34.855513Z",
          "iopub.status.idle": "2024-11-29T07:16:35.980179Z",
          "shell.execute_reply.started": "2024-11-29T07:16:34.855476Z",
          "shell.execute_reply": "2024-11-29T07:16:35.979337Z"
        },
        "jupyter": {
          "outputs_hidden": false
        },
        "id": "YDNVy0Zw8tQ2",
        "colab": {
          "base_uri": "https://localhost:8080/",
          "height": 472
        },
        "outputId": "3aea60a7-8da7-4d61-b1a3-c084e16c0a0c"
      },
      "outputs": [
        {
          "output_type": "display_data",
          "data": {
            "text/plain": [
              "<Figure size 640x480 with 1 Axes>"
            ],
            "image/png": "[encoded data removed]"
          },
          "metadata": {}
        }
      ],
      "execution_count": 10
    },
    {
      "cell_type": "code",
      "source": [
        "print(f\"Number of duplicate tweet_id: {data_identification['tweet_id'].duplicated().sum()}\")"
      ],
      "metadata": {
        "_uuid": "bcb41c36-e01c-4fb6-9cdf-1b611371e539",
        "_cell_guid": "83dcfe96-36c6-42c2-a424-6b5f9abf5aa2",
        "trusted": true,
        "execution": {
          "iopub.status.busy": "2024-11-29T07:16:35.98135Z",
          "iopub.execute_input": "2024-11-29T07:16:35.981694Z",
          "iopub.status.idle": "2024-11-29T07:16:36.833026Z",
          "shell.execute_reply.started": "2024-11-29T07:16:35.981655Z",
          "shell.execute_reply": "2024-11-29T07:16:36.832126Z"
        },
        "jupyter": {
          "outputs_hidden": false
        },
        "id": "lX8eMMJu8tQ3",
        "colab": {
          "base_uri": "https://localhost:8080/"
        },
        "outputId": "edf69cf7-65a4-4acc-8340-b06fb57e3e67"
      },
      "outputs": [
        {
          "output_type": "stream",
          "name": "stdout",
          "text": [
            "Number of duplicate tweet_id: 0\n"
          ]
        }
      ],
      "execution_count": 11
    },
    {
      "cell_type": "code",
      "source": [
        "import os\n",
        "\n",
        "# Get the path where the data was downloaded\n",
        "data_dir = os.path.dirname(dm_2024_isa_5810_lab_2_homework_path)\n",
        "\n",
        "# Construct the full path to the JSON file\n",
        "json_path = os.path.join(data_dir, 'dm-2024-isa-5810-lab-2-homework', 'tweets_DM.json')\n",
        "\n",
        "#Next is tweets_DM\n",
        "with open(json_path, 'r') as f: # Use the corrected path\n",
        "    for i, line in enumerate(f):\n",
        "        print(line.strip())\n",
        "        if i == 4:  # Print first 5 lines\n",
        "            break"
      ],
      "metadata": {
        "_uuid": "163ea3c1-8a76-4094-9617-5b698e43aa46",
        "_cell_guid": "43bb8e45-acd2-4637-83a2-78dc66cef1c9",
        "trusted": true,
        "execution": {
          "iopub.status.busy": "2024-11-29T07:16:36.834144Z",
          "iopub.execute_input": "2024-11-29T07:16:36.834484Z",
          "iopub.status.idle": "2024-11-29T07:16:36.84692Z",
          "shell.execute_reply.started": "2024-11-29T07:16:36.834457Z",
          "shell.execute_reply": "2024-11-29T07:16:36.84603Z"
        },
        "jupyter": {
          "outputs_hidden": false
        },
        "id": "esFXnirp8tQ3",
        "colab": {
          "base_uri": "https://localhost:8080/"
        },
        "outputId": "3c16c5c8-a9e8-497d-b483-fa734ac62cae"
      },
      "outputs": [
        {
          "output_type": "stream",
          "name": "stdout",
          "text": [
            "{\"_score\": 391, \"_index\": \"hashtag_tweets\", \"_source\": {\"tweet\": {\"hashtags\": [\"Snapchat\"], \"tweet_id\": \"0x376b20\", \"text\": \"People who post \\\"add me on #Snapchat\\\" must be dehydrated. Cuz man.... that's <LH>\"}}, \"_crawldate\": \"2015-05-23 11:42:47\", \"_type\": \"tweets\"}\n",
            "{\"_score\": 433, \"_index\": \"hashtag_tweets\", \"_source\": {\"tweet\": {\"hashtags\": [\"freepress\", \"TrumpLegacy\", \"CNN\"], \"tweet_id\": \"0x2d5350\", \"text\": \"@brianklaas As we see, Trump is dangerous to #freepress around the world. What a <LH> <LH> #TrumpLegacy.  #CNN\"}}, \"_crawldate\": \"2016-01-28 04:52:09\", \"_type\": \"tweets\"}\n",
            "{\"_score\": 232, \"_index\": \"hashtag_tweets\", \"_source\": {\"tweet\": {\"hashtags\": [\"bibleverse\"], \"tweet_id\": \"0x28b412\", \"text\": \"Confident of your obedience, I write to you, knowing that you will do even more than I ask. (Philemon 1:21) 3/4 #bibleverse <LH> <LH>\"}}, \"_crawldate\": \"2017-12-25 04:39:20\", \"_type\": \"tweets\"}\n",
            "{\"_score\": 376, \"_index\": \"hashtag_tweets\", \"_source\": {\"tweet\": {\"hashtags\": [], \"tweet_id\": \"0x1cd5b0\", \"text\": \"Now ISSA is stalking Tasha \\ud83d\\ude02\\ud83d\\ude02\\ud83d\\ude02 <LH>\"}}, \"_crawldate\": \"2016-01-24 23:53:05\", \"_type\": \"tweets\"}\n",
            "{\"_score\": 989, \"_index\": \"hashtag_tweets\", \"_source\": {\"tweet\": {\"hashtags\": [], \"tweet_id\": \"0x2de201\", \"text\": \"\\\"Trust is not the same as faith. A friend is someone you trust. Putting faith in anyone is a mistake.\\\" ~ Christopher Hitchens <LH> <LH>\"}}, \"_crawldate\": \"2016-01-08 17:18:59\", \"_type\": \"tweets\"}\n"
          ]
        }
      ],
      "execution_count": 13
    },
    {
      "cell_type": "code",
      "source": [
        "#Convert to dataframe\n",
        "import json\n",
        "import pandas as pd\n",
        "import os\n",
        "\n",
        "# Get the path where the data was downloaded\n",
        "data_dir = os.path.dirname(dm_2024_isa_5810_lab_2_homework_path)\n",
        "\n",
        "# Construct the full path to the JSON file\n",
        "json_path = os.path.join(data_dir, 'dm-2024-isa-5810-lab-2-homework', 'tweets_DM.json')\n",
        "\n",
        "\n",
        "tweets = []\n",
        "\n",
        "# Use the json_path variable instead of the hardcoded path\n",
        "with open(json_path, 'r') as f:\n",
        "    for line in f:\n",
        "        data = json.loads(line.strip())\n",
        "        tweet_id = data[\"_source\"][\"tweet\"][\"tweet_id\"]\n",
        "        text = data[\"_source\"][\"tweet\"][\"text\"]\n",
        "        tweets.append({\"tweet_id\": tweet_id, \"text\": text})\n",
        "\n",
        "\n",
        "tweets_df = pd.DataFrame(tweets)\n",
        "\n",
        "print(tweets_df.head())"
      ],
      "metadata": {
        "_uuid": "61cf81d1-4c6b-4100-8e0a-a66a9e3d3da9",
        "_cell_guid": "059d3586-bc29-49aa-b7c2-01ed103a84c3",
        "trusted": true,
        "execution": {
          "iopub.status.busy": "2024-11-29T07:16:36.847861Z",
          "iopub.execute_input": "2024-11-29T07:16:36.848072Z",
          "iopub.status.idle": "2024-11-29T07:16:49.868094Z",
          "shell.execute_reply.started": "2024-11-29T07:16:36.84805Z",
          "shell.execute_reply": "2024-11-29T07:16:49.867176Z"
        },
        "jupyter": {
          "outputs_hidden": false
        },
        "id": "cA-qtGnA8tQ4",
        "colab": {
          "base_uri": "https://localhost:8080/"
        },
        "outputId": "6d1cdf95-45e8-44d3-d2ac-0d8ef398f012"
      },
      "outputs": [
        {
          "output_type": "stream",
          "name": "stdout",
          "text": [
            "   tweet_id                                               text\n",
            "0  0x376b20  People who post \"add me on #Snapchat\" must be ...\n",
            "1  0x2d5350  @brianklaas As we see, Trump is dangerous to #...\n",
            "2  0x28b412  Confident of your obedience, I write to you, k...\n",
            "3  0x1cd5b0                Now ISSA is stalking Tasha 😂😂😂 <LH>\n",
            "4  0x2de201  \"Trust is not the same as faith. A friend is s...\n"
          ]
        }
      ],
      "execution_count": 15
    },
    {
      "cell_type": "code",
      "source": [
        "import os\n",
        "import pandas as pd\n",
        "\n",
        "# Get the path where the data was downloaded\n",
        "data_dir = os.path.dirname(dm_2024_isa_5810_lab_2_homework_path)\n",
        "\n",
        "# Construct the full path to the emotion.csv file\n",
        "emotion_path = os.path.join(data_dir, 'dm-2024-isa-5810-lab-2-homework', 'emotion.csv')\n",
        "\n",
        "# Read the emotion.csv file using the constructed path\n",
        "emotion = pd.read_csv(emotion_path)"
      ],
      "metadata": {
        "_uuid": "c02127e7-5103-4128-957b-3dc55e2f330f",
        "_cell_guid": "3252f9d1-a09a-4874-8eff-219a3d779f56",
        "trusted": true,
        "execution": {
          "iopub.status.busy": "2024-11-29T07:16:49.871741Z",
          "iopub.execute_input": "2024-11-29T07:16:49.871989Z",
          "iopub.status.idle": "2024-11-29T07:16:50.740093Z",
          "shell.execute_reply.started": "2024-11-29T07:16:49.871964Z",
          "shell.execute_reply": "2024-11-29T07:16:50.739127Z"
        },
        "jupyter": {
          "outputs_hidden": false
        },
        "id": "wSL1j12_8tQ4"
      },
      "outputs": [],
      "execution_count": 17
    },
    {
      "cell_type": "code",
      "source": [
        "print(emotion.head())\n",
        "print(emotion.info())"
      ],
      "metadata": {
        "_uuid": "42674dc0-a7cd-4d01-9b8e-91b65586067b",
        "_cell_guid": "d8448f7b-3299-4e10-bcaf-5fd15aff062b",
        "trusted": true,
        "execution": {
          "iopub.status.busy": "2024-11-29T07:16:50.74152Z",
          "iopub.execute_input": "2024-11-29T07:16:50.741822Z",
          "iopub.status.idle": "2024-11-29T07:16:50.866873Z",
          "shell.execute_reply.started": "2024-11-29T07:16:50.741793Z",
          "shell.execute_reply": "2024-11-29T07:16:50.866014Z"
        },
        "jupyter": {
          "outputs_hidden": false
        },
        "id": "cwcdIwV58tQ4",
        "colab": {
          "base_uri": "https://localhost:8080/"
        },
        "outputId": "2860cc83-0b55-41ea-a568-18ff717d3b6a"
      },
      "outputs": [
        {
          "output_type": "stream",
          "name": "stdout",
          "text": [
            "   tweet_id       emotion\n",
            "0  0x3140b1       sadness\n",
            "1  0x368b73       disgust\n",
            "2  0x296183  anticipation\n",
            "3  0x2bd6e1           joy\n",
            "4  0x2ee1dd  anticipation\n",
            "<class 'pandas.core.frame.DataFrame'>\n",
            "RangeIndex: 1455563 entries, 0 to 1455562\n",
            "Data columns (total 2 columns):\n",
            " #   Column    Non-Null Count    Dtype \n",
            "---  ------    --------------    ----- \n",
            " 0   tweet_id  1455563 non-null  object\n",
            " 1   emotion   1455563 non-null  object\n",
            "dtypes: object(2)\n",
            "memory usage: 22.2+ MB\n",
            "None\n"
          ]
        }
      ],
      "execution_count": 18
    },
    {
      "cell_type": "code",
      "source": [
        "#Check the distribution\n",
        "sns.countplot(data=emotion, x='emotion', order=emotion['emotion'].value_counts().index)\n",
        "plt.title(\"Emotion Label Distribution\")\n",
        "plt.xticks(rotation=45)\n",
        "plt.show()"
      ],
      "metadata": {
        "_uuid": "e49d2fe1-476f-46d2-b15b-e69c0ca2bb84",
        "_cell_guid": "6711f3ee-7da5-493b-868c-4a5bd4f039e3",
        "trusted": true,
        "execution": {
          "iopub.status.busy": "2024-11-29T07:16:50.867891Z",
          "iopub.execute_input": "2024-11-29T07:16:50.86821Z",
          "iopub.status.idle": "2024-11-29T07:16:51.614276Z",
          "shell.execute_reply.started": "2024-11-29T07:16:50.86818Z",
          "shell.execute_reply": "2024-11-29T07:16:51.613414Z"
        },
        "jupyter": {
          "outputs_hidden": false
        },
        "id": "-6nd-PAU8tQ5",
        "colab": {
          "base_uri": "https://localhost:8080/",
          "height": 526
        },
        "outputId": "5f5d60d2-0d9a-4f7a-85ae-b859652ba6fa"
      },
      "outputs": [
        {
          "output_type": "display_data",
          "data": {
            "text/plain": [
              "<Figure size 640x480 with 1 Axes>"
            ],
            "image/png": "[encoded data removed]"
          },
          "metadata": {}
        }
      ],
      "execution_count": 19
    },
    {
      "cell_type": "code",
      "source": [
        "print(f\"Number of missing tweet_id: {emotion['tweet_id'].isnull().sum()}\")\n",
        "print(f\"Number of duplicate tweet_id: {emotion['tweet_id'].duplicated().sum()}\")"
      ],
      "metadata": {
        "_uuid": "f8bc7404-7f2a-42b9-956c-afc97c0e3c96",
        "_cell_guid": "4f3bfd24-cd93-4d44-8b2d-88ebba20c671",
        "trusted": true,
        "execution": {
          "iopub.status.busy": "2024-11-29T07:16:51.615424Z",
          "iopub.execute_input": "2024-11-29T07:16:51.615689Z",
          "iopub.status.idle": "2024-11-29T07:16:51.965979Z",
          "shell.execute_reply.started": "2024-11-29T07:16:51.615661Z",
          "shell.execute_reply": "2024-11-29T07:16:51.965189Z"
        },
        "jupyter": {
          "outputs_hidden": false
        },
        "id": "9XmyY6os8tQ5",
        "colab": {
          "base_uri": "https://localhost:8080/"
        },
        "outputId": "799ef3a0-c9df-4909-bf68-c2d8810c7dc4"
      },
      "outputs": [
        {
          "output_type": "stream",
          "name": "stdout",
          "text": [
            "Number of missing tweet_id: 0\n",
            "Number of duplicate tweet_id: 0\n"
          ]
        }
      ],
      "execution_count": 20
    },
    {
      "cell_type": "code",
      "source": [
        "# Combine data_identification.csv and tweets_DM.json\n",
        "tweets_df = pd.DataFrame(tweets)\n",
        "merged_data = pd.merge(data_identification, tweets_df, on='tweet_id', how='left')  # Merge using tweet_id\n",
        "\n",
        "print(merged_data.head())"
      ],
      "metadata": {
        "_uuid": "01593a40-3f23-4ceb-b623-1b2f9af22ffa",
        "_cell_guid": "78bc99ba-93a7-4879-8222-93703fc4007e",
        "trusted": true,
        "execution": {
          "iopub.status.busy": "2024-11-29T07:16:51.967062Z",
          "iopub.execute_input": "2024-11-29T07:16:51.967352Z",
          "iopub.status.idle": "2024-11-29T07:16:55.728259Z",
          "shell.execute_reply.started": "2024-11-29T07:16:51.967324Z",
          "shell.execute_reply": "2024-11-29T07:16:55.727293Z"
        },
        "jupyter": {
          "outputs_hidden": false
        },
        "id": "K9FN4Xt48tQ5",
        "colab": {
          "base_uri": "https://localhost:8080/"
        },
        "outputId": "993782e3-2a0c-4fc1-dcd0-69924fa55b5c"
      },
      "outputs": [
        {
          "output_type": "stream",
          "name": "stdout",
          "text": [
            "   tweet_id identification                                               text\n",
            "0  0x28cc61           test  @Habbo I've seen two separate colours of the e...\n",
            "1  0x29e452          train  Huge Respect🖒 @JohnnyVegasReal talking about l...\n",
            "2  0x2b3819          train  Yoooo we hit all our monthly goals with the ne...\n",
            "3  0x2db41f           test  @FoxNews @KellyannePolls No serious self respe...\n",
            "4  0x2a2acc          train  @KIDSNTS @PICU_BCH @uhbcomms @BWCHBoss Well do...\n"
          ]
        }
      ],
      "execution_count": 21
    },
    {
      "cell_type": "code",
      "source": [
        "#Add emotion labels to training data\n",
        "train_data = pd.merge(merged_data[merged_data['identification'] == 'train'], emotion, on='tweet_id', how='left')\n",
        "test_data = merged_data[merged_data['identification'] == 'test']"
      ],
      "metadata": {
        "_uuid": "29bfcde1-c73a-4d69-a33f-a0befe3eeea8",
        "_cell_guid": "94e56fa5-a4ef-4dde-a277-3433333ff4ec",
        "trusted": true,
        "execution": {
          "iopub.status.busy": "2024-11-29T07:16:55.729476Z",
          "iopub.execute_input": "2024-11-29T07:16:55.729845Z",
          "iopub.status.idle": "2024-11-29T07:16:57.989385Z",
          "shell.execute_reply.started": "2024-11-29T07:16:55.729803Z",
          "shell.execute_reply": "2024-11-29T07:16:57.988412Z"
        },
        "jupyter": {
          "outputs_hidden": false
        },
        "id": "Gpuh9MAP8tQ6"
      },
      "outputs": [],
      "execution_count": 22
    },
    {
      "cell_type": "code",
      "source": [
        "print(train_data.head())\n",
        "print(test_data.head())"
      ],
      "metadata": {
        "_uuid": "2da1f489-2206-4a7e-8b17-50165afd87bd",
        "_cell_guid": "40b3f8ef-0b8d-48b2-ab5a-816287c56fba",
        "trusted": true,
        "execution": {
          "iopub.status.busy": "2024-11-29T07:16:57.990513Z",
          "iopub.execute_input": "2024-11-29T07:16:57.990766Z",
          "iopub.status.idle": "2024-11-29T07:16:57.998589Z",
          "shell.execute_reply.started": "2024-11-29T07:16:57.990742Z",
          "shell.execute_reply": "2024-11-29T07:16:57.997727Z"
        },
        "jupyter": {
          "outputs_hidden": false
        },
        "id": "75Vq2pic8tQ6",
        "colab": {
          "base_uri": "https://localhost:8080/"
        },
        "outputId": "2efe73f6-a6cb-4772-cc6c-d621308440b8"
      },
      "outputs": [
        {
          "output_type": "stream",
          "name": "stdout",
          "text": [
            "   tweet_id identification                                               text  \\\n",
            "0  0x29e452          train  Huge Respect🖒 @JohnnyVegasReal talking about l...   \n",
            "1  0x2b3819          train  Yoooo we hit all our monthly goals with the ne...   \n",
            "2  0x2a2acc          train  @KIDSNTS @PICU_BCH @uhbcomms @BWCHBoss Well do...   \n",
            "3  0x2a8830          train  Come join @ambushman27 on #PUBG while he striv...   \n",
            "4  0x20b21d          train  @fanshixieen2014 Blessings!My #strength little...   \n",
            "\n",
            "        emotion  \n",
            "0           joy  \n",
            "1           joy  \n",
            "2         trust  \n",
            "3           joy  \n",
            "4  anticipation  \n",
            "    tweet_id identification                                               text\n",
            "0   0x28cc61           test  @Habbo I've seen two separate colours of the e...\n",
            "3   0x2db41f           test  @FoxNews @KellyannePolls No serious self respe...\n",
            "15  0x2466f6           test  Looking for a new car, and it says 1 lady owne...\n",
            "23  0x23f9e9           test  @cineworld “only the brave” just out and fount...\n",
            "31  0x1fb4e1           test  Felt like total dog 💩 going into open gym and ...\n"
          ]
        }
      ],
      "execution_count": 23
    },
    {
      "cell_type": "code",
      "source": [
        "#Text Preprocessing\n",
        "import re\n",
        "import nltk # import nltk\n",
        "from nltk.corpus import stopwords\n",
        "from nltk.tokenize import word_tokenize\n",
        "\n",
        "nltk.download('stopwords') # Download the stopwords dataset\n",
        "\n",
        "stop_words = set(stopwords.words('english'))\n",
        "\n",
        "def clean_text(text):\n",
        "    text = text.lower()\n",
        "    text = re.sub(r'http\\S+|www\\S+|https\\S+', '', text)  # Remove URLs\n",
        "    text = re.sub(r'@\\w+|#\\w+', '', text)  # Remove mentions and hashtags\n",
        "    text = re.sub(r'<lh>', '', text)  # Remove <LH> placeholders\n",
        "    text = re.sub(r'[^a-z\\s]', '', text)  # Remove special characters\n",
        "    words = text.split()\n",
        "    words = [word for word in words if word not in stop_words]  # Remove stopwords\n",
        "    return ' '.join(words)"
      ],
      "metadata": {
        "trusted": true,
        "execution": {
          "iopub.status.busy": "2024-11-29T07:16:57.999569Z",
          "iopub.execute_input": "2024-11-29T07:16:57.999824Z",
          "iopub.status.idle": "2024-11-29T07:16:58.528244Z",
          "shell.execute_reply.started": "2024-11-29T07:16:57.999795Z",
          "shell.execute_reply": "2024-11-29T07:16:58.527557Z"
        },
        "id": "Gqzp_plo8tQ6",
        "colab": {
          "base_uri": "https://localhost:8080/"
        },
        "outputId": "9b7a4013-6fc3-486a-96f3-2c9716c29eb2"
      },
      "outputs": [
        {
          "output_type": "stream",
          "name": "stderr",
          "text": [
            "[nltk_data] Downloading package stopwords to /root/nltk_data...\n",
            "[nltk_data]   Unzipping corpora/stopwords.zip.\n"
          ]
        }
      ],
      "execution_count": 25
    },
    {
      "cell_type": "code",
      "source": [
        "train_data = train_data.copy()\n",
        "test_data = test_data.copy()\n",
        "\n",
        "train_data.loc[:, 'cleaned_text'] = train_data['text'].apply(clean_text)\n",
        "test_data.loc[:, 'cleaned_text'] = test_data['text'].apply(clean_text)"
      ],
      "metadata": {
        "trusted": true,
        "execution": {
          "iopub.status.busy": "2024-11-29T07:16:58.529215Z",
          "iopub.execute_input": "2024-11-29T07:16:58.529455Z",
          "iopub.status.idle": "2024-11-29T07:17:17.308076Z",
          "shell.execute_reply.started": "2024-11-29T07:16:58.529431Z",
          "shell.execute_reply": "2024-11-29T07:17:17.307126Z"
        },
        "id": "Nho7lAvX8tQ6"
      },
      "outputs": [],
      "execution_count": 26
    },
    {
      "cell_type": "code",
      "source": [
        "print(train_data[['text', 'cleaned_text']].head())\n",
        "print(test_data[['text', 'cleaned_text']].head())"
      ],
      "metadata": {
        "trusted": true,
        "execution": {
          "iopub.status.busy": "2024-11-29T07:17:17.309266Z",
          "iopub.execute_input": "2024-11-29T07:17:17.30957Z",
          "iopub.status.idle": "2024-11-29T07:17:17.509301Z",
          "shell.execute_reply.started": "2024-11-29T07:17:17.309542Z",
          "shell.execute_reply": "2024-11-29T07:17:17.508415Z"
        },
        "id": "2iv7dDAL8tQ6",
        "colab": {
          "base_uri": "https://localhost:8080/"
        },
        "outputId": "b821668d-a893-44c9-912e-ed004217f957"
      },
      "outputs": [
        {
          "output_type": "stream",
          "name": "stdout",
          "text": [
            "                                                text  \\\n",
            "0  Huge Respect🖒 @JohnnyVegasReal talking about l...   \n",
            "1  Yoooo we hit all our monthly goals with the ne...   \n",
            "2  @KIDSNTS @PICU_BCH @uhbcomms @BWCHBoss Well do...   \n",
            "3  Come join @ambushman27 on #PUBG while he striv...   \n",
            "4  @fanshixieen2014 Blessings!My #strength little...   \n",
            "\n",
            "                                        cleaned_text  \n",
            "0  huge respect talking losing dad cancerif dont ...  \n",
            "1          yoooo hit monthly goals new app two weeks  \n",
            "2                           well done team every one  \n",
            "3                  come join strives chicken donners  \n",
            "4  blessingsmy little brittledoor open wont go no...  \n",
            "                                                 text  \\\n",
            "0   @Habbo I've seen two separate colours of the e...   \n",
            "3   @FoxNews @KellyannePolls No serious self respe...   \n",
            "15  Looking for a new car, and it says 1 lady owne...   \n",
            "23  @cineworld “only the brave” just out and fount...   \n",
            "31  Felt like total dog 💩 going into open gym and ...   \n",
            "\n",
            "                                         cleaned_text  \n",
            "0   ive seen two separate colours elegant furni ho...  \n",
            "3   serious self respecting individual believes mu...  \n",
            "15  looking new car says lady owner means needs ne...  \n",
            "23               brave fountain park showings per day  \n",
            "31  felt like total dog going open gym migraine pl...  \n"
          ]
        }
      ],
      "execution_count": 27
    },
    {
      "cell_type": "code",
      "source": [
        "#Most frequent label is \"joy,\" while \"anger\" is the least frequent.\n",
        "#This imbalance could affect model training and evaluation.\n",
        "\n",
        "from sklearn.utils import resample\n",
        "\n",
        "# Get the majority class\n",
        "majority = train_data[train_data['emotion'] == 'joy']\n",
        "\n",
        "# Set a target size for oversampling\n",
        "target_size = int(len(majority) * 0.75)  # 75% of the majority class size\n",
        "\n",
        "balanced_data = [majority]\n",
        "\n",
        "for emotion in train_data['emotion'].unique():\n",
        "    if emotion != 'joy':\n",
        "        minority = train_data[train_data['emotion'] == emotion]\n",
        "        oversampled_minority = resample(minority,\n",
        "                                        replace=True,\n",
        "                                        n_samples=min(target_size, len(majority)),  # Cap size\n",
        "                                        random_state=42)\n",
        "        balanced_data.append(oversampled_minority)\n",
        "\n",
        "train_data_balanced = pd.concat(balanced_data)"
      ],
      "metadata": {
        "trusted": true,
        "execution": {
          "iopub.status.busy": "2024-11-29T07:17:17.510546Z",
          "iopub.execute_input": "2024-11-29T07:17:17.51092Z",
          "iopub.status.idle": "2024-11-29T07:17:19.548705Z",
          "shell.execute_reply.started": "2024-11-29T07:17:17.51088Z",
          "shell.execute_reply": "2024-11-29T07:17:19.547942Z"
        },
        "id": "P0OQRtZN8tQ6"
      },
      "outputs": [],
      "execution_count": 28
    },
    {
      "cell_type": "code",
      "source": [
        "# Check new label distribution\n",
        "sns.countplot(data=train_data_balanced, x='emotion', order=train_data_balanced['emotion'].value_counts().index)\n",
        "plt.title(\"Balanced Emotion Label Distribution\")\n",
        "plt.xticks(rotation=45)\n",
        "plt.show()"
      ],
      "metadata": {
        "trusted": true,
        "execution": {
          "iopub.status.busy": "2024-11-29T07:17:19.549798Z",
          "iopub.execute_input": "2024-11-29T07:17:19.550164Z",
          "iopub.status.idle": "2024-11-29T07:17:21.003921Z",
          "shell.execute_reply.started": "2024-11-29T07:17:19.550103Z",
          "shell.execute_reply": "2024-11-29T07:17:21.003178Z"
        },
        "id": "TfuyIK0r8tQ7",
        "colab": {
          "base_uri": "https://localhost:8080/",
          "height": 526
        },
        "outputId": "fb09ce05-8af1-49d2-ac8e-c9df9e1576af"
      },
      "outputs": [
        {
          "output_type": "display_data",
          "data": {
            "text/plain": [
              "<Figure size 640x480 with 1 Axes>"
            ],
            "image/png": "[encoded data removed]"
          },
          "metadata": {}
        }
      ],
      "execution_count": 29
    },
    {
      "cell_type": "code",
      "source": [
        "#try use SMOTE for synthetic data\n",
        "from sklearn.feature_extraction.text import TfidfVectorizer\n",
        "from imblearn.over_sampling import SMOTE\n",
        "from collections import Counter\n",
        "\n",
        "# Vectorize the text data\n",
        "vectorizer = TfidfVectorizer(max_features=500, ngram_range=(1, 1), max_df=0.8, min_df=5)\n",
        "X_train = vectorizer.fit_transform(train_data['cleaned_text'])\n",
        "y_train = train_data['emotion']"
      ],
      "metadata": {
        "trusted": true,
        "execution": {
          "iopub.status.busy": "2024-11-29T07:17:21.005149Z",
          "iopub.execute_input": "2024-11-29T07:17:21.005777Z",
          "iopub.status.idle": "2024-11-29T07:17:30.99757Z",
          "shell.execute_reply.started": "2024-11-29T07:17:21.005735Z",
          "shell.execute_reply": "2024-11-29T07:17:30.996873Z"
        },
        "id": "VXJe3QUO8tQ7"
      },
      "outputs": [],
      "execution_count": 30
    },
    {
      "cell_type": "code",
      "source": [
        "# Inspect the shape of the feature matrix\n",
        "print(\"TF-IDF matrix shape:\", X_train.shape)"
      ],
      "metadata": {
        "trusted": true,
        "execution": {
          "iopub.status.busy": "2024-11-29T07:17:30.998552Z",
          "iopub.execute_input": "2024-11-29T07:17:30.998977Z",
          "iopub.status.idle": "2024-11-29T07:17:31.003841Z",
          "shell.execute_reply.started": "2024-11-29T07:17:30.998943Z",
          "shell.execute_reply": "2024-11-29T07:17:31.002917Z"
        },
        "id": "uXrj9jFL8tQ7",
        "colab": {
          "base_uri": "https://localhost:8080/"
        },
        "outputId": "13965b23-eba5-41fc-f04b-e484a008a32d"
      },
      "outputs": [
        {
          "output_type": "stream",
          "name": "stdout",
          "text": [
            "TF-IDF matrix shape: (1455563, 500)\n"
          ]
        }
      ],
      "execution_count": 31
    },
    {
      "cell_type": "code",
      "source": [
        "# Subset a smaller portion of the dataset for testing becasue of computional limitation\n",
        "train_sample = train_data_balanced.sample(frac=0.2, random_state=42)\n",
        "X_sample = vectorizer.transform(train_sample['cleaned_text'])\n",
        "y_sample = train_sample['emotion']\n",
        "\n",
        "# Apply SMOTE on the subset\n",
        "smote = SMOTE(random_state=42)\n",
        "X_sample_smote, y_sample_smote = smote.fit_resample(X_sample, y_sample)\n",
        "\n",
        "print(\"Subset SMOTE label distribution:\", Counter(y_sample_smote))\n"
      ],
      "metadata": {
        "trusted": true,
        "execution": {
          "iopub.status.busy": "2024-11-29T07:17:31.005064Z",
          "iopub.execute_input": "2024-11-29T07:17:31.005494Z",
          "iopub.status.idle": "2024-11-29T07:22:53.347356Z",
          "shell.execute_reply.started": "2024-11-29T07:17:31.005456Z",
          "shell.execute_reply": "2024-11-29T07:22:53.3465Z"
        },
        "id": "2rRqIxLP8tQ7",
        "colab": {
          "base_uri": "https://localhost:8080/"
        },
        "outputId": "566e4a22-976b-4717-8f43-637d248d886f"
      },
      "outputs": [
        {
          "output_type": "stream",
          "name": "stdout",
          "text": [
            "Subset SMOTE label distribution: Counter({'trust': 103169, 'fear': 103169, 'surprise': 103169, 'joy': 103169, 'sadness': 103169, 'anticipation': 103169, 'disgust': 103169, 'anger': 103169})\n"
          ]
        }
      ],
      "execution_count": 32
    },
    {
      "cell_type": "code",
      "source": [
        "print(\"Shape of resampled data:\", X_sample_smote.shape)\n",
        "print(\"First 5 resampled labels:\", y_sample_smote[:5])\n"
      ],
      "metadata": {
        "trusted": true,
        "execution": {
          "iopub.status.busy": "2024-11-29T07:22:53.348536Z",
          "iopub.execute_input": "2024-11-29T07:22:53.348808Z",
          "iopub.status.idle": "2024-11-29T07:22:53.353989Z",
          "shell.execute_reply.started": "2024-11-29T07:22:53.348781Z",
          "shell.execute_reply": "2024-11-29T07:22:53.353163Z"
        },
        "id": "JCmFwdvF8tQ7",
        "colab": {
          "base_uri": "https://localhost:8080/"
        },
        "outputId": "27de0d90-2564-4e92-923c-84d1aba48781"
      },
      "outputs": [
        {
          "output_type": "stream",
          "name": "stdout",
          "text": [
            "Shape of resampled data: (825352, 500)\n",
            "First 5 resampled labels: 0       trust\n",
            "1        fear\n",
            "2    surprise\n",
            "3         joy\n",
            "4         joy\n",
            "Name: emotion, dtype: object\n"
          ]
        }
      ],
      "execution_count": 33
    },
    {
      "cell_type": "code",
      "source": [
        "#Split the balanced subset into training and validation sets\n",
        "from sklearn.model_selection import train_test_split\n",
        "\n",
        "# Split data\n",
        "X_train_split, X_val, y_train_split, y_val = train_test_split(\n",
        "    X_sample_smote, y_sample_smote, test_size=0.2, random_state=42\n",
        ")\n",
        "\n",
        "print(\"Training set shape:\", X_train_split.shape)\n",
        "print(\"Validation set shape:\", X_val.shape)\n"
      ],
      "metadata": {
        "trusted": true,
        "execution": {
          "iopub.status.busy": "2024-11-29T07:22:53.355074Z",
          "iopub.execute_input": "2024-11-29T07:22:53.355365Z",
          "iopub.status.idle": "2024-11-29T07:22:53.463219Z",
          "shell.execute_reply.started": "2024-11-29T07:22:53.355339Z",
          "shell.execute_reply": "2024-11-29T07:22:53.462363Z"
        },
        "id": "8pJQxFox8tQ8",
        "colab": {
          "base_uri": "https://localhost:8080/"
        },
        "outputId": "5e845042-a9b0-4ee7-9c0a-9483ff44017f"
      },
      "outputs": [
        {
          "output_type": "stream",
          "name": "stdout",
          "text": [
            "Training set shape: (660281, 500)\n",
            "Validation set shape: (165071, 500)\n"
          ]
        }
      ],
      "execution_count": 34
    },
    {
      "cell_type": "code",
      "source": [
        "#Train the baseline logistic regression model\n",
        "from sklearn.linear_model import LogisticRegression\n",
        "from sklearn.metrics import classification_report, f1_score\n",
        "\n",
        "# Train Logistic Regression\n",
        "model = LogisticRegression(max_iter=1000, random_state=42)\n",
        "model.fit(X_train_split, y_train_split)\n",
        "\n",
        "# Predict on validation set\n",
        "y_val_pred = model.predict(X_val)"
      ],
      "metadata": {
        "trusted": true,
        "execution": {
          "iopub.status.busy": "2024-11-29T07:22:53.464426Z",
          "iopub.execute_input": "2024-11-29T07:22:53.46515Z",
          "iopub.status.idle": "2024-11-29T07:24:08.179439Z",
          "shell.execute_reply.started": "2024-11-29T07:22:53.465088Z",
          "shell.execute_reply": "2024-11-29T07:24:08.178702Z"
        },
        "id": "0PTQBTBi8tQ8"
      },
      "outputs": [],
      "execution_count": 35
    },
    {
      "cell_type": "code",
      "source": [
        "print(classification_report(y_val, y_val_pred))\n",
        "print(\"Macro F1 Score:\", f1_score(y_val, y_val_pred, average='macro'))"
      ],
      "metadata": {
        "trusted": true,
        "execution": {
          "iopub.status.busy": "2024-11-29T07:24:08.182766Z",
          "iopub.execute_input": "2024-11-29T07:24:08.183018Z",
          "iopub.status.idle": "2024-11-29T07:24:15.738742Z",
          "shell.execute_reply.started": "2024-11-29T07:24:08.182994Z",
          "shell.execute_reply": "2024-11-29T07:24:15.73776Z"
        },
        "id": "CK69aty_8tQ8",
        "colab": {
          "base_uri": "https://localhost:8080/"
        },
        "outputId": "e4e79b0c-be0b-4030-8f8d-9fbfd3157d73"
      },
      "outputs": [
        {
          "output_type": "stream",
          "name": "stdout",
          "text": [
            "              precision    recall  f1-score   support\n",
            "\n",
            "       anger       0.26      0.30      0.28     20784\n",
            "anticipation       0.37      0.39      0.38     20720\n",
            "     disgust       0.24      0.20      0.22     20650\n",
            "        fear       0.35      0.34      0.34     20429\n",
            "         joy       0.33      0.24      0.28     20765\n",
            "     sadness       0.27      0.19      0.23     20468\n",
            "    surprise       0.20      0.33      0.25     20619\n",
            "       trust       0.32      0.30      0.31     20636\n",
            "\n",
            "    accuracy                           0.29    165071\n",
            "   macro avg       0.29      0.29      0.29    165071\n",
            "weighted avg       0.29      0.29      0.29    165071\n",
            "\n",
            "Macro F1 Score: 0.28565495291654786\n"
          ]
        }
      ],
      "execution_count": 36
    },
    {
      "cell_type": "code",
      "source": [
        "#optimize parameters to capture more meaningful features\n",
        "from sklearn.feature_extraction.text import TfidfVectorizer\n",
        "\n",
        "vectorizer = TfidfVectorizer(max_features=2000, ngram_range=(1, 2), max_df=0.9, min_df=5)\n",
        "X_train = vectorizer.fit_transform(train_data_balanced['cleaned_text'])\n",
        "X_val = vectorizer.transform(test_data['cleaned_text'])\n",
        "\n",
        "print(\"TF-IDF matrix shape:\", X_train.shape)\n"
      ],
      "metadata": {
        "trusted": true,
        "execution": {
          "iopub.status.busy": "2024-11-29T07:24:15.739979Z",
          "iopub.execute_input": "2024-11-29T07:24:15.740296Z",
          "iopub.status.idle": "2024-11-29T07:25:16.19601Z",
          "shell.execute_reply.started": "2024-11-29T07:24:15.740264Z",
          "shell.execute_reply": "2024-11-29T07:25:16.195065Z"
        },
        "id": "GPQpNG6k8tQ8",
        "colab": {
          "base_uri": "https://localhost:8080/"
        },
        "outputId": "14da4673-7d0a-4a51-bcfb-79e4f830aea9"
      },
      "outputs": [
        {
          "output_type": "stream",
          "name": "stdout",
          "text": [
            "TF-IDF matrix shape: (3225101, 2000)\n"
          ]
        }
      ],
      "execution_count": 37
    },
    {
      "cell_type": "code",
      "source": [
        "# Logistic regression with class weights\n",
        "from sklearn.linear_model import LogisticRegression\n",
        "from sklearn.metrics import classification_report, f1_score\n",
        "from sklearn.utils.class_weight import compute_class_weight\n",
        "\n",
        "classes = train_data_balanced['emotion'].unique()\n",
        "class_weights = compute_class_weight('balanced', classes=classes, y=train_data_balanced['emotion'])\n",
        "class_weights_dict = dict(zip(classes, class_weights))\n",
        "print(\"Class Weights:\", class_weights_dict)"
      ],
      "metadata": {
        "trusted": true,
        "execution": {
          "iopub.status.busy": "2024-11-29T07:25:16.196858Z",
          "iopub.execute_input": "2024-11-29T07:25:16.197094Z",
          "iopub.status.idle": "2024-11-29T07:25:17.070598Z",
          "shell.execute_reply.started": "2024-11-29T07:25:16.19707Z",
          "shell.execute_reply": "2024-11-29T07:25:17.069644Z"
        },
        "id": "UMqtcXAd8tQ9",
        "colab": {
          "base_uri": "https://localhost:8080/"
        },
        "outputId": "f758c674-bd5f-4858-e845-99b467e072f8"
      },
      "outputs": [
        {
          "output_type": "stream",
          "name": "stdout",
          "text": [
            "Class Weights: {'joy': 0.7812487282395735, 'trust': 1.0416669896540676, 'anticipation': 1.0416669896540676, 'sadness': 1.0416669896540676, 'disgust': 1.0416669896540676, 'fear': 1.0416669896540676, 'surprise': 1.0416669896540676, 'anger': 1.0416669896540676}\n"
          ]
        }
      ],
      "execution_count": 38
    },
    {
      "cell_type": "code",
      "source": [
        "# Split training and validation sets\n",
        "from sklearn.model_selection import train_test_split\n",
        "X_train_split, X_val_split, y_train_split, y_val_split = train_test_split(X_train, train_data_balanced['emotion'], test_size=0.2, random_state=42)"
      ],
      "metadata": {
        "trusted": true,
        "execution": {
          "iopub.status.busy": "2024-11-29T07:25:17.071842Z",
          "iopub.execute_input": "2024-11-29T07:25:17.072088Z",
          "iopub.status.idle": "2024-11-29T07:25:17.732677Z",
          "shell.execute_reply.started": "2024-11-29T07:25:17.072065Z",
          "shell.execute_reply": "2024-11-29T07:25:17.731726Z"
        },
        "id": "Qv3bQjw58tQ9"
      },
      "outputs": [],
      "execution_count": 39
    },
    {
      "cell_type": "code",
      "source": [
        "# Train Logistic Regression\n",
        "model = LogisticRegression(max_iter=1000, class_weight=class_weights_dict, random_state=42)\n",
        "model.fit(X_train_split, y_train_split)"
      ],
      "metadata": {
        "trusted": true,
        "execution": {
          "iopub.status.busy": "2024-11-29T07:55:30.841528Z",
          "iopub.execute_input": "2024-11-29T07:55:30.841905Z"
        },
        "id": "rytB9q4b8tQ9",
        "colab": {
          "base_uri": "https://localhost:8080/",
          "height": 219
        },
        "outputId": "bae6f126-1b97-4b61-ee07-9ae3c8b73f35"
      },
      "outputs": [
        {
          "output_type": "execute_result",
          "data": {
            "text/plain": [
              "LogisticRegression(class_weight={'anger': 1.0416669896540676,\n",
              "                                 'anticipation': 1.0416669896540676,\n",
              "                                 'disgust': 1.0416669896540676,\n",
              "                                 'fear': 1.0416669896540676,\n",
              "                                 'joy': 0.7812487282395735,\n",
              "                                 'sadness': 1.0416669896540676,\n",
              "                                 'surprise': 1.0416669896540676,\n",
              "                                 'trust': 1.0416669896540676},\n",
              "                   max_iter=1000, random_state=42)"
            ],
            "text/html": [
              "<style>#sk-container-id-1 {\n",
              "  /* Definition of color scheme common for light and dark mode */\n",
              "  --sklearn-color-text: black;\n",
              "  --sklearn-color-line: gray;\n",
              "  /* Definition of color scheme for unfitted estimators */\n",
              "  --sklearn-color-unfitted-level-0: #fff5e6;\n",
              "  --sklearn-color-unfitted-level-1: #f6e4d2;\n",
              "  --sklearn-color-unfitted-level-2: #ffe0b3;\n",
              "  --sklearn-color-unfitted-level-3: chocolate;\n",
              "  /* Definition of color scheme for fitted estimators */\n",
              "  --sklearn-color-fitted-level-0: #f0f8ff;\n",
              "  --sklearn-color-fitted-level-1: #d4ebff;\n",
              "  --sklearn-color-fitted-level-2: #b3dbfd;\n",
              "  --sklearn-color-fitted-level-3: cornflowerblue;\n",
              "\n",
              "  /* Specific color for light theme */\n",
              "  --sklearn-color-text-on-default-background: var(--sg-text-color, var(--theme-code-foreground, var(--jp-content-font-color1, black)));\n",
              "  --sklearn-color-background: var(--sg-background-color, var(--theme-background, var(--jp-layout-color0, white)));\n",
              "  --sklearn-color-border-box: var(--sg-text-color, var(--theme-code-foreground, var(--jp-content-font-color1, black)));\n",
              "  --sklearn-color-icon: #696969;\n",
              "\n",
              "  @media (prefers-color-scheme: dark) {\n",
              "    /* Redefinition of color scheme for dark theme */\n",
              "    --sklearn-color-text-on-default-background: var(--sg-text-color, var(--theme-code-foreground, var(--jp-content-font-color1, white)));\n",
              "    --sklearn-color-background: var(--sg-background-color, var(--theme-background, var(--jp-layout-color0, #111)));\n",
              "    --sklearn-color-border-box: var(--sg-text-color, var(--theme-code-foreground, var(--jp-content-font-color1, white)));\n",
              "    --sklearn-color-icon: #878787;\n",
              "  }\n",
              "}\n",
              "\n",
              "#sk-container-id-1 {\n",
              "  color: var(--sklearn-color-text);\n",
              "}\n",
              "\n",
              "#sk-container-id-1 pre {\n",
              "  padding: 0;\n",
              "}\n",
              "\n",
              "#sk-container-id-1 input.sk-hidden--visually {\n",
              "  border: 0;\n",
              "  clip: rect(1px 1px 1px 1px);\n",
              "  clip: rect(1px, 1px, 1px, 1px);\n",
              "  height: 1px;\n",
              "  margin: -1px;\n",
              "  overflow: hidden;\n",
              "  padding: 0;\n",
              "  position: absolute;\n",
              "  width: 1px;\n",
              "}\n",
              "\n",
              "#sk-container-id-1 div.sk-dashed-wrapped {\n",
              "  border: 1px dashed var(--sklearn-color-line);\n",
              "  margin: 0 0.4em 0.5em 0.4em;\n",
              "  box-sizing: border-box;\n",
              "  padding-bottom: 0.4em;\n",
              "  background-color: var(--sklearn-color-background);\n",
              "}\n",
              "\n",
              "#sk-container-id-1 div.sk-container {\n",
              "  /* jupyter's `normalize.less` sets `[hidden] { display: none; }`\n",
              "     but bootstrap.min.css set `[hidden] { display: none !important; }`\n",
              "     so we also need the `!important` here to be able to override the\n",
              "     default hidden behavior on the sphinx rendered scikit-learn.org.\n",
              "     See: https://github.com/scikit-learn/scikit-learn/issues/21755 */\n",
              "  display: inline-block !important;\n",
              "  position: relative;\n",
              "}\n",
              "\n",
              "#sk-container-id-1 div.sk-text-repr-fallback {\n",
              "  display: none;\n",
              "}\n",
              "\n",
              "div.sk-parallel-item,\n",
              "div.sk-serial,\n",
              "div.sk-item {\n",
              "  /* draw centered vertical line to link estimators */\n",
              "  background-image: linear-gradient(var(--sklearn-color-text-on-default-background), var(--sklearn-color-text-on-default-background));\n",
              "  background-size: 2px 100%;\n",
              "  background-repeat: no-repeat;\n",
              "  background-position: center center;\n",
              "}\n",
              "\n",
              "/* Parallel-specific style estimator block */\n",
              "\n",
              "#sk-container-id-1 div.sk-parallel-item::after {\n",
              "  content: \"\";\n",
              "  width: 100%;\n",
              "  border-bottom: 2px solid var(--sklearn-color-text-on-default-background);\n",
              "  flex-grow: 1;\n",
              "}\n",
              "\n",
              "#sk-container-id-1 div.sk-parallel {\n",
              "  display: flex;\n",
              "  align-items: stretch;\n",
              "  justify-content: center;\n",
              "  background-color: var(--sklearn-color-background);\n",
              "  position: relative;\n",
              "}\n",
              "\n",
              "#sk-container-id-1 div.sk-parallel-item {\n",
              "  display: flex;\n",
              "  flex-direction: column;\n",
              "}\n",
              "\n",
              "#sk-container-id-1 div.sk-parallel-item:first-child::after {\n",
              "  align-self: flex-end;\n",
              "  width: 50%;\n",
              "}\n",
              "\n",
              "#sk-container-id-1 div.sk-parallel-item:last-child::after {\n",
              "  align-self: flex-start;\n",
              "  width: 50%;\n",
              "}\n",
              "\n",
              "#sk-container-id-1 div.sk-parallel-item:only-child::after {\n",
              "  width: 0;\n",
              "}\n",
              "\n",
              "/* Serial-specific style estimator block */\n",
              "\n",
              "#sk-container-id-1 div.sk-serial {\n",
              "  display: flex;\n",
              "  flex-direction: column;\n",
              "  align-items: center;\n",
              "  background-color: var(--sklearn-color-background);\n",
              "  padding-right: 1em;\n",
              "  padding-left: 1em;\n",
              "}\n",
              "\n",
              "\n",
              "/* Toggleable style: style used for estimator/Pipeline/ColumnTransformer box that is\n",
              "clickable and can be expanded/collapsed.\n",
              "- Pipeline and ColumnTransformer use this feature and define the default style\n",
              "- Estimators will overwrite some part of the style using the `sk-estimator` class\n",
              "*/\n",
              "\n",
              "/* Pipeline and ColumnTransformer style (default) */\n",
              "\n",
              "#sk-container-id-1 div.sk-toggleable {\n",
              "  /* Default theme specific background. It is overwritten whether we have a\n",
              "  specific estimator or a Pipeline/ColumnTransformer */\n",
              "  background-color: var(--sklearn-color-background);\n",
              "}\n",
              "\n",
              "/* Toggleable label */\n",
              "#sk-container-id-1 label.sk-toggleable__label {\n",
              "  cursor: pointer;\n",
              "  display: block;\n",
              "  width: 100%;\n",
              "  margin-bottom: 0;\n",
              "  padding: 0.5em;\n",
              "  box-sizing: border-box;\n",
              "  text-align: center;\n",
              "}\n",
              "\n",
              "#sk-container-id-1 label.sk-toggleable__label-arrow:before {\n",
              "  /* Arrow on the left of the label */\n",
              "  content: \"▸\";\n",
              "  float: left;\n",
              "  margin-right: 0.25em;\n",
              "  color: var(--sklearn-color-icon);\n",
              "}\n",
              "\n",
              "#sk-container-id-1 label.sk-toggleable__label-arrow:hover:before {\n",
              "  color: var(--sklearn-color-text);\n",
              "}\n",
              "\n",
              "/* Toggleable content - dropdown */\n",
              "\n",
              "#sk-container-id-1 div.sk-toggleable__content {\n",
              "  max-height: 0;\n",
              "  max-width: 0;\n",
              "  overflow: hidden;\n",
              "  text-align: left;\n",
              "  /* unfitted */\n",
              "  background-color: var(--sklearn-color-unfitted-level-0);\n",
              "}\n",
              "\n",
              "#sk-container-id-1 div.sk-toggleable__content.fitted {\n",
              "  /* fitted */\n",
              "  background-color: var(--sklearn-color-fitted-level-0);\n",
              "}\n",
              "\n",
              "#sk-container-id-1 div.sk-toggleable__content pre {\n",
              "  margin: 0.2em;\n",
              "  border-radius: 0.25em;\n",
              "  color: var(--sklearn-color-text);\n",
              "  /* unfitted */\n",
              "  background-color: var(--sklearn-color-unfitted-level-0);\n",
              "}\n",
              "\n",
              "#sk-container-id-1 div.sk-toggleable__content.fitted pre {\n",
              "  /* unfitted */\n",
              "  background-color: var(--sklearn-color-fitted-level-0);\n",
              "}\n",
              "\n",
              "#sk-container-id-1 input.sk-toggleable__control:checked~div.sk-toggleable__content {\n",
              "  /* Expand drop-down */\n",
              "  max-height: 200px;\n",
              "  max-width: 100%;\n",
              "  overflow: auto;\n",
              "}\n",
              "\n",
              "#sk-container-id-1 input.sk-toggleable__control:checked~label.sk-toggleable__label-arrow:before {\n",
              "  content: \"▾\";\n",
              "}\n",
              "\n",
              "/* Pipeline/ColumnTransformer-specific style */\n",
              "\n",
              "#sk-container-id-1 div.sk-label input.sk-toggleable__control:checked~label.sk-toggleable__label {\n",
              "  color: var(--sklearn-color-text);\n",
              "  background-color: var(--sklearn-color-unfitted-level-2);\n",
              "}\n",
              "\n",
              "#sk-container-id-1 div.sk-label.fitted input.sk-toggleable__control:checked~label.sk-toggleable__label {\n",
              "  background-color: var(--sklearn-color-fitted-level-2);\n",
              "}\n",
              "\n",
              "/* Estimator-specific style */\n",
              "\n",
              "/* Colorize estimator box */\n",
              "#sk-container-id-1 div.sk-estimator input.sk-toggleable__control:checked~label.sk-toggleable__label {\n",
              "  /* unfitted */\n",
              "  background-color: var(--sklearn-color-unfitted-level-2);\n",
              "}\n",
              "\n",
              "#sk-container-id-1 div.sk-estimator.fitted input.sk-toggleable__control:checked~label.sk-toggleable__label {\n",
              "  /* fitted */\n",
              "  background-color: var(--sklearn-color-fitted-level-2);\n",
              "}\n",
              "\n",
              "#sk-container-id-1 div.sk-label label.sk-toggleable__label,\n",
              "#sk-container-id-1 div.sk-label label {\n",
              "  /* The background is the default theme color */\n",
              "  color: var(--sklearn-color-text-on-default-background);\n",
              "}\n",
              "\n",
              "/* On hover, darken the color of the background */\n",
              "#sk-container-id-1 div.sk-label:hover label.sk-toggleable__label {\n",
              "  color: var(--sklearn-color-text);\n",
              "  background-color: var(--sklearn-color-unfitted-level-2);\n",
              "}\n",
              "\n",
              "/* Label box, darken color on hover, fitted */\n",
              "#sk-container-id-1 div.sk-label.fitted:hover label.sk-toggleable__label.fitted {\n",
              "  color: var(--sklearn-color-text);\n",
              "  background-color: var(--sklearn-color-fitted-level-2);\n",
              "}\n",
              "\n",
              "/* Estimator label */\n",
              "\n",
              "#sk-container-id-1 div.sk-label label {\n",
              "  font-family: monospace;\n",
              "  font-weight: bold;\n",
              "  display: inline-block;\n",
              "  line-height: 1.2em;\n",
              "}\n",
              "\n",
              "#sk-container-id-1 div.sk-label-container {\n",
              "  text-align: center;\n",
              "}\n",
              "\n",
              "/* Estimator-specific */\n",
              "#sk-container-id-1 div.sk-estimator {\n",
              "  font-family: monospace;\n",
              "  border: 1px dotted var(--sklearn-color-border-box);\n",
              "  border-radius: 0.25em;\n",
              "  box-sizing: border-box;\n",
              "  margin-bottom: 0.5em;\n",
              "  /* unfitted */\n",
              "  background-color: var(--sklearn-color-unfitted-level-0);\n",
              "}\n",
              "\n",
              "#sk-container-id-1 div.sk-estimator.fitted {\n",
              "  /* fitted */\n",
              "  background-color: var(--sklearn-color-fitted-level-0);\n",
              "}\n",
              "\n",
              "/* on hover */\n",
              "#sk-container-id-1 div.sk-estimator:hover {\n",
              "  /* unfitted */\n",
              "  background-color: var(--sklearn-color-unfitted-level-2);\n",
              "}\n",
              "\n",
              "#sk-container-id-1 div.sk-estimator.fitted:hover {\n",
              "  /* fitted */\n",
              "  background-color: var(--sklearn-color-fitted-level-2);\n",
              "}\n",
              "\n",
              "/* Specification for estimator info (e.g. \"i\" and \"?\") */\n",
              "\n",
              "/* Common style for \"i\" and \"?\" */\n",
              "\n",
              ".sk-estimator-doc-link,\n",
              "a:link.sk-estimator-doc-link,\n",
              "a:visited.sk-estimator-doc-link {\n",
              "  float: right;\n",
              "  font-size: smaller;\n",
              "  line-height: 1em;\n",
              "  font-family: monospace;\n",
              "  background-color: var(--sklearn-color-background);\n",
              "  border-radius: 1em;\n",
              "  height: 1em;\n",
              "  width: 1em;\n",
              "  text-decoration: none !important;\n",
              "  margin-left: 1ex;\n",
              "  /* unfitted */\n",
              "  border: var(--sklearn-color-unfitted-level-1) 1pt solid;\n",
              "  color: var(--sklearn-color-unfitted-level-1);\n",
              "}\n",
              "\n",
              ".sk-estimator-doc-link.fitted,\n",
              "a:link.sk-estimator-doc-link.fitted,\n",
              "a:visited.sk-estimator-doc-link.fitted {\n",
              "  /* fitted */\n",
              "  border: var(--sklearn-color-fitted-level-1) 1pt solid;\n",
              "  color: var(--sklearn-color-fitted-level-1);\n",
              "}\n",
              "\n",
              "/* On hover */\n",
              "div.sk-estimator:hover .sk-estimator-doc-link:hover,\n",
              ".sk-estimator-doc-link:hover,\n",
              "div.sk-label-container:hover .sk-estimator-doc-link:hover,\n",
              ".sk-estimator-doc-link:hover {\n",
              "  /* unfitted */\n",
              "  background-color: var(--sklearn-color-unfitted-level-3);\n",
              "  color: var(--sklearn-color-background);\n",
              "  text-decoration: none;\n",
              "}\n",
              "\n",
              "div.sk-estimator.fitted:hover .sk-estimator-doc-link.fitted:hover,\n",
              ".sk-estimator-doc-link.fitted:hover,\n",
              "div.sk-label-container:hover .sk-estimator-doc-link.fitted:hover,\n",
              ".sk-estimator-doc-link.fitted:hover {\n",
              "  /* fitted */\n",
              "  background-color: var(--sklearn-color-fitted-level-3);\n",
              "  color: var(--sklearn-color-background);\n",
              "  text-decoration: none;\n",
              "}\n",
              "\n",
              "/* Span, style for the box shown on hovering the info icon */\n",
              ".sk-estimator-doc-link span {\n",
              "  display: none;\n",
              "  z-index: 9999;\n",
              "  position: relative;\n",
              "  font-weight: normal;\n",
              "  right: .2ex;\n",
              "  padding: .5ex;\n",
              "  margin: .5ex;\n",
              "  width: min-content;\n",
              "  min-width: 20ex;\n",
              "  max-width: 50ex;\n",
              "  color: var(--sklearn-color-text);\n",
              "  box-shadow: 2pt 2pt 4pt #999;\n",
              "  /* unfitted */\n",
              "  background: var(--sklearn-color-unfitted-level-0);\n",
              "  border: .5pt solid var(--sklearn-color-unfitted-level-3);\n",
              "}\n",
              "\n",
              ".sk-estimator-doc-link.fitted span {\n",
              "  /* fitted */\n",
              "  background: var(--sklearn-color-fitted-level-0);\n",
              "  border: var(--sklearn-color-fitted-level-3);\n",
              "}\n",
              "\n",
              ".sk-estimator-doc-link:hover span {\n",
              "  display: block;\n",
              "}\n",
              "\n",
              "/* \"?\"-specific style due to the `<a>` HTML tag */\n",
              "\n",
              "#sk-container-id-1 a.estimator_doc_link {\n",
              "  float: right;\n",
              "  font-size: 1rem;\n",
              "  line-height: 1em;\n",
              "  font-family: monospace;\n",
              "  background-color: var(--sklearn-color-background);\n",
              "  border-radius: 1rem;\n",
              "  height: 1rem;\n",
              "  width: 1rem;\n",
              "  text-decoration: none;\n",
              "  /* unfitted */\n",
              "  color: var(--sklearn-color-unfitted-level-1);\n",
              "  border: var(--sklearn-color-unfitted-level-1) 1pt solid;\n",
              "}\n",
              "\n",
              "#sk-container-id-1 a.estimator_doc_link.fitted {\n",
              "  /* fitted */\n",
              "  border: var(--sklearn-color-fitted-level-1) 1pt solid;\n",
              "  color: var(--sklearn-color-fitted-level-1);\n",
              "}\n",
              "\n",
              "/* On hover */\n",
              "#sk-container-id-1 a.estimator_doc_link:hover {\n",
              "  /* unfitted */\n",
              "  background-color: var(--sklearn-color-unfitted-level-3);\n",
              "  color: var(--sklearn-color-background);\n",
              "  text-decoration: none;\n",
              "}\n",
              "\n",
              "#sk-container-id-1 a.estimator_doc_link.fitted:hover {\n",
              "  /* fitted */\n",
              "  background-color: var(--sklearn-color-fitted-level-3);\n",
              "}\n",
              "</style><div id=\"sk-container-id-1\" class=\"sk-top-container\"><div class=\"sk-text-repr-fallback\"><pre>LogisticRegression(class_weight={&#x27;anger&#x27;: 1.0416669896540676,\n",
              "                                 &#x27;anticipation&#x27;: 1.0416669896540676,\n",
              "                                 &#x27;disgust&#x27;: 1.0416669896540676,\n",
              "                                 &#x27;fear&#x27;: 1.0416669896540676,\n",
              "                                 &#x27;joy&#x27;: 0.7812487282395735,\n",
              "                                 &#x27;sadness&#x27;: 1.0416669896540676,\n",
              "                                 &#x27;surprise&#x27;: 1.0416669896540676,\n",
              "                                 &#x27;trust&#x27;: 1.0416669896540676},\n",
              "                   max_iter=1000, random_state=42)</pre><b>In a Jupyter environment, please rerun this cell to show the HTML representation or trust the notebook. <br />On GitHub, the HTML representation is unable to render, please try loading this page with nbviewer.org.</b></div><div class=\"sk-container\" hidden><div class=\"sk-item\"><div class=\"sk-estimator fitted sk-toggleable\"><input class=\"sk-toggleable__control sk-hidden--visually\" id=\"sk-estimator-id-1\" type=\"checkbox\" checked><label for=\"sk-estimator-id-1\" class=\"sk-toggleable__label fitted sk-toggleable__label-arrow fitted\">&nbsp;&nbsp;LogisticRegression<a class=\"sk-estimator-doc-link fitted\" rel=\"noreferrer\" target=\"_blank\" href=\"https://scikit-learn.org/1.5/modules/generated/sklearn.linear_model.LogisticRegression.html\">?<span>Documentation for LogisticRegression</span></a><span class=\"sk-estimator-doc-link fitted\">i<span>Fitted</span></span></label><div class=\"sk-toggleable__content fitted\"><pre>LogisticRegression(class_weight={&#x27;anger&#x27;: 1.0416669896540676,\n",
              "                                 &#x27;anticipation&#x27;: 1.0416669896540676,\n",
              "                                 &#x27;disgust&#x27;: 1.0416669896540676,\n",
              "                                 &#x27;fear&#x27;: 1.0416669896540676,\n",
              "                                 &#x27;joy&#x27;: 0.7812487282395735,\n",
              "                                 &#x27;sadness&#x27;: 1.0416669896540676,\n",
              "                                 &#x27;surprise&#x27;: 1.0416669896540676,\n",
              "                                 &#x27;trust&#x27;: 1.0416669896540676},\n",
              "                   max_iter=1000, random_state=42)</pre></div> </div></div></div></div>"
            ]
          },
          "metadata": {},
          "execution_count": 40
        }
      ],
      "execution_count": 40
    },
    {
      "cell_type": "code",
      "source": [
        "y_val_pred = model.predict(X_val_split)\n",
        "print(classification_report(y_val_split, y_val_pred))\n",
        "print(\"Macro F1 Score:\", f1_score(y_val_split, y_val_pred, average='macro'))"
      ],
      "metadata": {
        "trusted": true,
        "execution": {
          "iopub.status.busy": "2024-11-29T07:40:15.654052Z",
          "iopub.execute_input": "2024-11-29T07:40:15.654362Z",
          "iopub.status.idle": "2024-11-29T07:40:47.162013Z",
          "shell.execute_reply.started": "2024-11-29T07:40:15.654328Z",
          "shell.execute_reply": "2024-11-29T07:40:47.161099Z"
        },
        "id": "EP8MfDdI8tQ-",
        "colab": {
          "base_uri": "https://localhost:8080/"
        },
        "outputId": "2cb25d12-2fb9-4d7f-9c24-8ab034dcbe7f"
      },
      "outputs": [
        {
          "output_type": "stream",
          "name": "stdout",
          "text": [
            "              precision    recall  f1-score   support\n",
            "\n",
            "       anger       0.37      0.44      0.40     77448\n",
            "anticipation       0.41      0.46      0.43     77113\n",
            "     disgust       0.29      0.30      0.29     77404\n",
            "        fear       0.35      0.48      0.41     77500\n",
            "         joy       0.41      0.31      0.35    103170\n",
            "     sadness       0.31      0.24      0.27     77646\n",
            "    surprise       0.34      0.30      0.32     77264\n",
            "       trust       0.35      0.34      0.34     77476\n",
            "\n",
            "    accuracy                           0.36    645021\n",
            "   macro avg       0.35      0.36      0.35    645021\n",
            "weighted avg       0.36      0.36      0.35    645021\n",
            "\n",
            "Macro F1 Score: 0.3526341455855094\n"
          ]
        }
      ],
      "execution_count": 41
    },
    {
      "cell_type": "code",
      "source": [
        "test_data['cleaned_text'] = test_data['text'].apply(clean_text)\n",
        "\n",
        "# Transform test data into feature matrix using the same TF-IDF vectorizer\n",
        "X_test = vectorizer.transform(test_data['cleaned_text'])"
      ],
      "metadata": {
        "trusted": true,
        "execution": {
          "iopub.status.busy": "2024-11-29T07:52:10.388951Z",
          "iopub.execute_input": "2024-11-29T07:52:10.389745Z",
          "iopub.status.idle": "2024-11-29T07:52:19.651207Z",
          "shell.execute_reply.started": "2024-11-29T07:52:10.389707Z",
          "shell.execute_reply": "2024-11-29T07:52:19.650246Z"
        },
        "id": "RwdlVyqL8tQ-"
      },
      "outputs": [],
      "execution_count": 42
    },
    {
      "cell_type": "code",
      "source": [
        "# Predict emotions for the test set\n",
        "y_test_pred = model.predict(X_test)\n",
        "print(\"Test predictions:\", y_test_pred[:5])  # Print the first 5 predictions"
      ],
      "metadata": {
        "trusted": true,
        "execution": {
          "iopub.status.busy": "2024-11-29T07:52:23.793013Z",
          "iopub.execute_input": "2024-11-29T07:52:23.793392Z",
          "iopub.status.idle": "2024-11-29T07:52:23.858483Z",
          "shell.execute_reply.started": "2024-11-29T07:52:23.79336Z",
          "shell.execute_reply": "2024-11-29T07:52:23.857343Z"
        },
        "id": "27rUY2Hf8tQ-",
        "colab": {
          "base_uri": "https://localhost:8080/"
        },
        "outputId": "093cf3f3-8192-45db-dbd1-76843e7091f2"
      },
      "outputs": [
        {
          "output_type": "stream",
          "name": "stdout",
          "text": [
            "Test predictions: ['surprise' 'fear' 'joy' 'disgust' 'disgust']\n"
          ]
        }
      ],
      "execution_count": 43
    },
    {
      "cell_type": "code",
      "source": [
        "# Save predictions to CSV\n",
        "submission = pd.DataFrame({\n",
        "    'id': test_data['tweet_id'],\n",
        "    'emotion': y_test_pred\n",
        "})\n",
        "\n",
        "submission.to_csv('112zm1031v1.csv', index=False)\n",
        "print(\"Submission file created: 112zm1031v1.csv\")\n"
      ],
      "metadata": {
        "id": "BpfQZamCfzla",
        "colab": {
          "base_uri": "https://localhost:8080/"
        },
        "outputId": "6088a5f3-37fe-479a-a173-cff6158718c2"
      },
      "execution_count": 44,
      "outputs": [
        {
          "output_type": "stream",
          "name": "stdout",
          "text": [
            "Submission file created: 112zm1031v1.csv\n"
          ]
        }
      ]
    },
    {
      "cell_type": "markdown",
      "source": [
        "#Save Intermediate Results"
      ],
      "metadata": {
        "id": "2yR7HySPgfXv"
      }
    },
    {
      "cell_type": "code",
      "source": [
        "from google.colab import drive\n",
        "import joblib\n",
        "\n",
        "# Mount Google Drive\n",
        "drive.mount('/content/drive')\n",
        "\n",
        "# Define save paths in Google Drive\n",
        "save_path_train = '/content/drive/My Drive/train_data_balanced.csv'\n",
        "save_path_test = '/content/drive/My Drive/test_data.csv'\n",
        "save_path_vectorizer = '/content/drive/My Drive/tfidf_vectorizer.pkl'\n",
        "save_path_model = '/content/drive/My Drive/logistic_regression_model.pkl'\n",
        "\n",
        "# Save preprocessed training and test data\n",
        "train_data_balanced.to_csv(save_path_train, index=False)\n",
        "test_data.to_csv(save_path_test, index=False)\n",
        "\n",
        "# Save the TF-IDF vectorizer\n",
        "joblib.dump(vectorizer, save_path_vectorizer)\n",
        "\n",
        "# Save the trained Logistic Regression model\n",
        "joblib.dump(model, save_path_model)\n",
        "\n",
        "print(\"Files saved to Google Drive successfully!\")\n"
      ],
      "metadata": {
        "colab": {
          "base_uri": "https://localhost:8080/"
        },
        "id": "4I3yKbJ0galO",
        "outputId": "7a99b066-2aac-4981-dd81-a61385b80e15"
      },
      "execution_count": 45,
      "outputs": [
        {
          "output_type": "stream",
          "name": "stdout",
          "text": [
            "Mounted at /content/drive\n",
            "Files saved to Google Drive successfully!\n"
          ]
        }
      ]
    }
  ]
}